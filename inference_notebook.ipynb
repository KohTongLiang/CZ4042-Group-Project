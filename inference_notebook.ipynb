{
  "cells": [
    {
      "cell_type": "markdown",
      "metadata": {
        "id": "8gP9hS6C6ova"
      },
      "source": [
        "# We explore this notebook and see how we can make modification to complete our tasks\n",
        "\n",
        "Some ideas\n",
        "\n",
        "\n",
        "*   Cross-gender identification\n",
        "* Age identification\n",
        "*   Deployment to mobile devices\n",
        "\n",
        "Dataset provided in assignment brief: https://susanqq.github.io/UTKFace/\n",
        "\n",
        "Download this: https://drive.google.com/drive/folders/0BxYys69jI14kU0I1YUQyY1ZDRUE?resourcekey=0-01Pth1hq20K4kuGVkp3oBw\n",
        "\n"
      ]
    },
    {
      "cell_type": "code",
      "execution_count": 1,
      "metadata": {
        "colab": {
          "base_uri": "https://localhost:8080/"
        },
        "id": "YTdorWeQxdc7",
        "outputId": "df64e111-20ad-49f4-b78c-12a60ecb9c61"
      },
      "outputs": [
        {
          "name": "stdout",
          "output_type": "stream",
          "text": [
            "Mounted at /content/drive\n"
          ]
        }
      ],
      "source": [
        "from google.colab import drive\n",
        "drive.mount('/content/drive')"
      ]
    },
    {
      "cell_type": "markdown",
      "metadata": {
        "id": "s3yl99hOe_F3"
      },
      "source": [
        "# **Age and Gender Estimation in TensorFlow ( Workbook 2, Gender Classification )**\n",
        "\n",
        "* For Age Estimation, go to [Workbook 1 ( Age Estimation )](https://colab.research.google.com/drive/1to2iolQGIVZgXFWRmRKZGrny5kfXk40h?usp=sharing)\n",
        "\n",
        "In this notebook, we train a Keras model to classify the gender of a person, given a *face-cropped* image. We use the famous [UTKFace Dataset](https://susanqq.github.io/UTKFace/), which contains 23K images where each image is labelled with its gender, age and ethinicity.\n",
        "\n",
        "\n",
        "> **Note: Please make sure that you are connected to the GPU runtime of Google Colab. Else, the training might take a decade long. Go to Runtime > Change runtime type > Hardware accelerator.**"
      ]
    },
    {
      "cell_type": "markdown",
      "metadata": {
        "id": "aMlbjEzffKQP"
      },
      "source": [
        "## 1) **Import libraries**"
      ]
    },
    {
      "cell_type": "code",
      "execution_count": 1,
      "metadata": {
        "id": "Eb_CNn_ui6QT"
      },
      "outputs": [],
      "source": [
        "import tensorflow as tf\n",
        "import numpy as np\n",
        "import matplotlib.pyplot as plt\n",
        "import os\n",
        "import datetime\n",
        "import plotly.express as px\n",
        "import pandas as pd\n",
        "import plotly.graph_objects as go\n",
        "from tensorflow.keras.layers import *\n",
        "from PIL import Image\n",
        "from sklearn.model_selection import train_test_split\n",
        "from tensorflow.keras.preprocessing.image import ImageDataGenerator\n",
        "from tensorflow.keras.utils import to_categorical\n",
        "from sklearn.metrics import classification_report, r2_score"
      ]
    },
    {
      "cell_type": "markdown",
      "metadata": {
        "id": "dAgOhn0cfrkg"
      },
      "source": [
        "## 2) **Processing the data**\n",
        "\n",
        "Once we've downloaded the dataset, we need to perform the following operations on the dataset, so that it can be used for training our model,\n",
        "\n",
        "* Reading the image files as 3D NumPy arrays. Note, we'll use 3-channeled RGB images for training the model, so each array will have a shape of `[ img_width , img_height , 3 ]`.\n",
        "\n",
        "* Split the filename so as to parse the gender of the person in corresponding image. We use the `tf.strings.split()` method for performing this task.\n",
        "\n",
        "* We one-hot encode the gender, as we'll perform *a two-class* classification.\n",
        "\n",
        "Once this operations have been performed, we are left with $N$ samples where each sample consists of image array `[ 128 , 128 , 3 ]` and its corresponding label ( one-hot encoded ), the gender of that person, which has a shape `[ 1 , 2 ]`\n",
        "\n",
        "We'll use `tf.data.Dataset` as it helps us to process the data faster, taking advantage of parallel computing. The above two operations will be mapped on each filename using `tf.data.Dataset.map` method."
      ]
    },
    {
      "cell_type": "code",
      "execution_count": 2,
      "metadata": {
        "id": "Mqem4IKA2Nm6"
      },
      "outputs": [],
      "source": [
        "# definitions for UTKDataset\n",
        "dataset_dict = {\n",
        "    'race_id': {\n",
        "        0: 'white', \n",
        "        1: 'black', \n",
        "        2: 'asian', \n",
        "        3: 'indian', \n",
        "        4: 'others'\n",
        "    },\n",
        "    'gender_id': {\n",
        "        0: 'male',\n",
        "        1: 'female'\n",
        "    }\n",
        "}\n",
        "\n",
        "dataset_dict['gender_alias'] = dict((g, i) for i, g in dataset_dict['gender_id'].items())\n",
        "dataset_dict['race_alias'] = dict((r, i) for i, r in dataset_dict['race_id'].items())"
      ]
    },
    {
      "cell_type": "code",
      "execution_count": 3,
      "metadata": {
        "colab": {
          "base_uri": "https://localhost:8080/",
          "height": 359
        },
        "id": "m67XqZMHirhz",
        "outputId": "fd4eda07-8c93-4092-f79f-cb7401d4b351"
      },
      "outputs": [
        {
          "data": {
            "text/html": [
              "<div>\n",
              "<style scoped>\n",
              "    .dataframe tbody tr th:only-of-type {\n",
              "        vertical-align: middle;\n",
              "    }\n",
              "\n",
              "    .dataframe tbody tr th {\n",
              "        vertical-align: top;\n",
              "    }\n",
              "\n",
              "    .dataframe thead th {\n",
              "        text-align: right;\n",
              "    }\n",
              "</style>\n",
              "<table border=\"1\" class=\"dataframe\">\n",
              "  <thead>\n",
              "    <tr style=\"text-align: right;\">\n",
              "      <th></th>\n",
              "      <th>age</th>\n",
              "      <th>gender</th>\n",
              "      <th>race</th>\n",
              "      <th>filename</th>\n",
              "    </tr>\n",
              "  </thead>\n",
              "  <tbody>\n",
              "    <tr>\n",
              "      <th>0</th>\n",
              "      <td>29</td>\n",
              "      <td>female</td>\n",
              "      <td>black</td>\n",
              "      <td>29_1_1_20170115234825058.jpg.chip.jpg</td>\n",
              "    </tr>\n",
              "    <tr>\n",
              "      <th>1</th>\n",
              "      <td>80</td>\n",
              "      <td>female</td>\n",
              "      <td>white</td>\n",
              "      <td>80_1_0_20170110182107291.jpg.chip.jpg</td>\n",
              "    </tr>\n",
              "    <tr>\n",
              "      <th>2</th>\n",
              "      <td>38</td>\n",
              "      <td>male</td>\n",
              "      <td>asian</td>\n",
              "      <td>38_0_2_20170116192326283.jpg.chip.jpg</td>\n",
              "    </tr>\n",
              "    <tr>\n",
              "      <th>3</th>\n",
              "      <td>35</td>\n",
              "      <td>female</td>\n",
              "      <td>white</td>\n",
              "      <td>35_1_0_20170117135400203.jpg.chip.jpg</td>\n",
              "    </tr>\n",
              "    <tr>\n",
              "      <th>4</th>\n",
              "      <td>52</td>\n",
              "      <td>male</td>\n",
              "      <td>black</td>\n",
              "      <td>52_0_1_20170113174958212.jpg.chip.jpg</td>\n",
              "    </tr>\n",
              "    <tr>\n",
              "      <th>5</th>\n",
              "      <td>27</td>\n",
              "      <td>male</td>\n",
              "      <td>asian</td>\n",
              "      <td>27_0_2_20170119193330242.jpg.chip.jpg</td>\n",
              "    </tr>\n",
              "    <tr>\n",
              "      <th>6</th>\n",
              "      <td>26</td>\n",
              "      <td>male</td>\n",
              "      <td>white</td>\n",
              "      <td>26_0_0_20170117173443951.jpg.chip.jpg</td>\n",
              "    </tr>\n",
              "    <tr>\n",
              "      <th>7</th>\n",
              "      <td>24</td>\n",
              "      <td>female</td>\n",
              "      <td>indian</td>\n",
              "      <td>24_1_3_20170104215731414.jpg.chip.jpg</td>\n",
              "    </tr>\n",
              "    <tr>\n",
              "      <th>8</th>\n",
              "      <td>20</td>\n",
              "      <td>female</td>\n",
              "      <td>black</td>\n",
              "      <td>20_1_1_20170116164052068.jpg.chip.jpg</td>\n",
              "    </tr>\n",
              "    <tr>\n",
              "      <th>9</th>\n",
              "      <td>34</td>\n",
              "      <td>male</td>\n",
              "      <td>white</td>\n",
              "      <td>34_0_0_20170117121628625.jpg.chip.jpg</td>\n",
              "    </tr>\n",
              "  </tbody>\n",
              "</table>\n",
              "</div>"
            ],
            "text/plain": [
              "   age  gender    race                               filename\n",
              "0   29  female   black  29_1_1_20170115234825058.jpg.chip.jpg\n",
              "1   80  female   white  80_1_0_20170110182107291.jpg.chip.jpg\n",
              "2   38    male   asian  38_0_2_20170116192326283.jpg.chip.jpg\n",
              "3   35  female   white  35_1_0_20170117135400203.jpg.chip.jpg\n",
              "4   52    male   black  52_0_1_20170113174958212.jpg.chip.jpg\n",
              "5   27    male   asian  27_0_2_20170119193330242.jpg.chip.jpg\n",
              "6   26    male   white  26_0_0_20170117173443951.jpg.chip.jpg\n",
              "7   24  female  indian  24_1_3_20170104215731414.jpg.chip.jpg\n",
              "8   20  female   black  20_1_1_20170116164052068.jpg.chip.jpg\n",
              "9   34    male   white  34_0_0_20170117121628625.jpg.chip.jpg"
            ]
          },
          "execution_count": 3,
          "metadata": {},
          "output_type": "execute_result"
        }
      ],
      "source": [
        "# dir = '/content/drive/MyDrive/Dataset/UTK/UTKFace'\n",
        "dir = './UTKDataset/UTKFace'\n",
        "\n",
        "# Fraction of the dataset to be used for testing.\n",
        "split = 0.3\n",
        "\n",
        "image_data = []\n",
        "\n",
        "def parse_data(filename):\n",
        "  try:\n",
        "    parts = filename.split('_')\n",
        "    age = parts[0]\n",
        "    gender = parts[1]\n",
        "    race = parts[2]\n",
        "    return int(age), dataset_dict['gender_id'][int(gender)], dataset_dict['race_id'][int(race)], filename\n",
        "  except Exception as e:\n",
        "    return None, None, None, None\n",
        "\n",
        "for i in os.listdir(dir):\n",
        "  age, gender, race, filename = parse_data(i)\n",
        "  if age is not None and gender is not None and race is not None and filename is not None:\n",
        "    image_data.append(parse_data(i))\n",
        "\n",
        "data = pd.DataFrame(image_data, columns=[\"age\", \"gender\", \"race\", \"filename\"])\n",
        "data = data.sample(frac=1).reset_index(drop=True) # shuffle dataframe in place and reset index\n",
        "data.head(10)\n"
      ]
    },
    {
      "cell_type": "code",
      "execution_count": 4,
      "metadata": {
        "id": "3cn1WboV0kRn"
      },
      "outputs": [],
      "source": [
        "def plot_distribution(pd_series):\n",
        "    labels = pd_series.value_counts().index.tolist()\n",
        "    counts = pd_series.value_counts().values.tolist()\n",
        "    \n",
        "    pie_plot = go.Pie(labels=labels, values=counts, hole=.3)\n",
        "    fig = go.Figure(data=[pie_plot])\n",
        "    fig.update_layout(title_text='Distribution for %s' % pd_series.name)\n",
        "    \n",
        "    fig.show()"
      ]
    },
    {
      "cell_type": "code",
      "execution_count": 5,
      "metadata": {
        "id": "pkrViKmC0qdZ"
      },
      "outputs": [
        {
          "data": {
            "application/vnd.plotly.v1+json": {
              "config": {
                "plotlyServerURL": "https://plot.ly"
              },
              "data": [
                {
                  "hole": 0.3,
                  "labels": [
                    "male",
                    "female"
                  ],
                  "type": "pie",
                  "values": [
                    12391,
                    11314
                  ]
                }
              ],
              "layout": {
                "template": {
                  "data": {
                    "bar": [
                      {
                        "error_x": {
                          "color": "#2a3f5f"
                        },
                        "error_y": {
                          "color": "#2a3f5f"
                        },
                        "marker": {
                          "line": {
                            "color": "#E5ECF6",
                            "width": 0.5
                          },
                          "pattern": {
                            "fillmode": "overlay",
                            "size": 10,
                            "solidity": 0.2
                          }
                        },
                        "type": "bar"
                      }
                    ],
                    "barpolar": [
                      {
                        "marker": {
                          "line": {
                            "color": "#E5ECF6",
                            "width": 0.5
                          },
                          "pattern": {
                            "fillmode": "overlay",
                            "size": 10,
                            "solidity": 0.2
                          }
                        },
                        "type": "barpolar"
                      }
                    ],
                    "carpet": [
                      {
                        "aaxis": {
                          "endlinecolor": "#2a3f5f",
                          "gridcolor": "white",
                          "linecolor": "white",
                          "minorgridcolor": "white",
                          "startlinecolor": "#2a3f5f"
                        },
                        "baxis": {
                          "endlinecolor": "#2a3f5f",
                          "gridcolor": "white",
                          "linecolor": "white",
                          "minorgridcolor": "white",
                          "startlinecolor": "#2a3f5f"
                        },
                        "type": "carpet"
                      }
                    ],
                    "choropleth": [
                      {
                        "colorbar": {
                          "outlinewidth": 0,
                          "ticks": ""
                        },
                        "type": "choropleth"
                      }
                    ],
                    "contour": [
                      {
                        "colorbar": {
                          "outlinewidth": 0,
                          "ticks": ""
                        },
                        "colorscale": [
                          [
                            0,
                            "#0d0887"
                          ],
                          [
                            0.1111111111111111,
                            "#46039f"
                          ],
                          [
                            0.2222222222222222,
                            "#7201a8"
                          ],
                          [
                            0.3333333333333333,
                            "#9c179e"
                          ],
                          [
                            0.4444444444444444,
                            "#bd3786"
                          ],
                          [
                            0.5555555555555556,
                            "#d8576b"
                          ],
                          [
                            0.6666666666666666,
                            "#ed7953"
                          ],
                          [
                            0.7777777777777778,
                            "#fb9f3a"
                          ],
                          [
                            0.8888888888888888,
                            "#fdca26"
                          ],
                          [
                            1,
                            "#f0f921"
                          ]
                        ],
                        "type": "contour"
                      }
                    ],
                    "contourcarpet": [
                      {
                        "colorbar": {
                          "outlinewidth": 0,
                          "ticks": ""
                        },
                        "type": "contourcarpet"
                      }
                    ],
                    "heatmap": [
                      {
                        "colorbar": {
                          "outlinewidth": 0,
                          "ticks": ""
                        },
                        "colorscale": [
                          [
                            0,
                            "#0d0887"
                          ],
                          [
                            0.1111111111111111,
                            "#46039f"
                          ],
                          [
                            0.2222222222222222,
                            "#7201a8"
                          ],
                          [
                            0.3333333333333333,
                            "#9c179e"
                          ],
                          [
                            0.4444444444444444,
                            "#bd3786"
                          ],
                          [
                            0.5555555555555556,
                            "#d8576b"
                          ],
                          [
                            0.6666666666666666,
                            "#ed7953"
                          ],
                          [
                            0.7777777777777778,
                            "#fb9f3a"
                          ],
                          [
                            0.8888888888888888,
                            "#fdca26"
                          ],
                          [
                            1,
                            "#f0f921"
                          ]
                        ],
                        "type": "heatmap"
                      }
                    ],
                    "heatmapgl": [
                      {
                        "colorbar": {
                          "outlinewidth": 0,
                          "ticks": ""
                        },
                        "colorscale": [
                          [
                            0,
                            "#0d0887"
                          ],
                          [
                            0.1111111111111111,
                            "#46039f"
                          ],
                          [
                            0.2222222222222222,
                            "#7201a8"
                          ],
                          [
                            0.3333333333333333,
                            "#9c179e"
                          ],
                          [
                            0.4444444444444444,
                            "#bd3786"
                          ],
                          [
                            0.5555555555555556,
                            "#d8576b"
                          ],
                          [
                            0.6666666666666666,
                            "#ed7953"
                          ],
                          [
                            0.7777777777777778,
                            "#fb9f3a"
                          ],
                          [
                            0.8888888888888888,
                            "#fdca26"
                          ],
                          [
                            1,
                            "#f0f921"
                          ]
                        ],
                        "type": "heatmapgl"
                      }
                    ],
                    "histogram": [
                      {
                        "marker": {
                          "pattern": {
                            "fillmode": "overlay",
                            "size": 10,
                            "solidity": 0.2
                          }
                        },
                        "type": "histogram"
                      }
                    ],
                    "histogram2d": [
                      {
                        "colorbar": {
                          "outlinewidth": 0,
                          "ticks": ""
                        },
                        "colorscale": [
                          [
                            0,
                            "#0d0887"
                          ],
                          [
                            0.1111111111111111,
                            "#46039f"
                          ],
                          [
                            0.2222222222222222,
                            "#7201a8"
                          ],
                          [
                            0.3333333333333333,
                            "#9c179e"
                          ],
                          [
                            0.4444444444444444,
                            "#bd3786"
                          ],
                          [
                            0.5555555555555556,
                            "#d8576b"
                          ],
                          [
                            0.6666666666666666,
                            "#ed7953"
                          ],
                          [
                            0.7777777777777778,
                            "#fb9f3a"
                          ],
                          [
                            0.8888888888888888,
                            "#fdca26"
                          ],
                          [
                            1,
                            "#f0f921"
                          ]
                        ],
                        "type": "histogram2d"
                      }
                    ],
                    "histogram2dcontour": [
                      {
                        "colorbar": {
                          "outlinewidth": 0,
                          "ticks": ""
                        },
                        "colorscale": [
                          [
                            0,
                            "#0d0887"
                          ],
                          [
                            0.1111111111111111,
                            "#46039f"
                          ],
                          [
                            0.2222222222222222,
                            "#7201a8"
                          ],
                          [
                            0.3333333333333333,
                            "#9c179e"
                          ],
                          [
                            0.4444444444444444,
                            "#bd3786"
                          ],
                          [
                            0.5555555555555556,
                            "#d8576b"
                          ],
                          [
                            0.6666666666666666,
                            "#ed7953"
                          ],
                          [
                            0.7777777777777778,
                            "#fb9f3a"
                          ],
                          [
                            0.8888888888888888,
                            "#fdca26"
                          ],
                          [
                            1,
                            "#f0f921"
                          ]
                        ],
                        "type": "histogram2dcontour"
                      }
                    ],
                    "mesh3d": [
                      {
                        "colorbar": {
                          "outlinewidth": 0,
                          "ticks": ""
                        },
                        "type": "mesh3d"
                      }
                    ],
                    "parcoords": [
                      {
                        "line": {
                          "colorbar": {
                            "outlinewidth": 0,
                            "ticks": ""
                          }
                        },
                        "type": "parcoords"
                      }
                    ],
                    "pie": [
                      {
                        "automargin": true,
                        "type": "pie"
                      }
                    ],
                    "scatter": [
                      {
                        "marker": {
                          "colorbar": {
                            "outlinewidth": 0,
                            "ticks": ""
                          }
                        },
                        "type": "scatter"
                      }
                    ],
                    "scatter3d": [
                      {
                        "line": {
                          "colorbar": {
                            "outlinewidth": 0,
                            "ticks": ""
                          }
                        },
                        "marker": {
                          "colorbar": {
                            "outlinewidth": 0,
                            "ticks": ""
                          }
                        },
                        "type": "scatter3d"
                      }
                    ],
                    "scattercarpet": [
                      {
                        "marker": {
                          "colorbar": {
                            "outlinewidth": 0,
                            "ticks": ""
                          }
                        },
                        "type": "scattercarpet"
                      }
                    ],
                    "scattergeo": [
                      {
                        "marker": {
                          "colorbar": {
                            "outlinewidth": 0,
                            "ticks": ""
                          }
                        },
                        "type": "scattergeo"
                      }
                    ],
                    "scattergl": [
                      {
                        "marker": {
                          "colorbar": {
                            "outlinewidth": 0,
                            "ticks": ""
                          }
                        },
                        "type": "scattergl"
                      }
                    ],
                    "scattermapbox": [
                      {
                        "marker": {
                          "colorbar": {
                            "outlinewidth": 0,
                            "ticks": ""
                          }
                        },
                        "type": "scattermapbox"
                      }
                    ],
                    "scatterpolar": [
                      {
                        "marker": {
                          "colorbar": {
                            "outlinewidth": 0,
                            "ticks": ""
                          }
                        },
                        "type": "scatterpolar"
                      }
                    ],
                    "scatterpolargl": [
                      {
                        "marker": {
                          "colorbar": {
                            "outlinewidth": 0,
                            "ticks": ""
                          }
                        },
                        "type": "scatterpolargl"
                      }
                    ],
                    "scatterternary": [
                      {
                        "marker": {
                          "colorbar": {
                            "outlinewidth": 0,
                            "ticks": ""
                          }
                        },
                        "type": "scatterternary"
                      }
                    ],
                    "surface": [
                      {
                        "colorbar": {
                          "outlinewidth": 0,
                          "ticks": ""
                        },
                        "colorscale": [
                          [
                            0,
                            "#0d0887"
                          ],
                          [
                            0.1111111111111111,
                            "#46039f"
                          ],
                          [
                            0.2222222222222222,
                            "#7201a8"
                          ],
                          [
                            0.3333333333333333,
                            "#9c179e"
                          ],
                          [
                            0.4444444444444444,
                            "#bd3786"
                          ],
                          [
                            0.5555555555555556,
                            "#d8576b"
                          ],
                          [
                            0.6666666666666666,
                            "#ed7953"
                          ],
                          [
                            0.7777777777777778,
                            "#fb9f3a"
                          ],
                          [
                            0.8888888888888888,
                            "#fdca26"
                          ],
                          [
                            1,
                            "#f0f921"
                          ]
                        ],
                        "type": "surface"
                      }
                    ],
                    "table": [
                      {
                        "cells": {
                          "fill": {
                            "color": "#EBF0F8"
                          },
                          "line": {
                            "color": "white"
                          }
                        },
                        "header": {
                          "fill": {
                            "color": "#C8D4E3"
                          },
                          "line": {
                            "color": "white"
                          }
                        },
                        "type": "table"
                      }
                    ]
                  },
                  "layout": {
                    "annotationdefaults": {
                      "arrowcolor": "#2a3f5f",
                      "arrowhead": 0,
                      "arrowwidth": 1
                    },
                    "autotypenumbers": "strict",
                    "coloraxis": {
                      "colorbar": {
                        "outlinewidth": 0,
                        "ticks": ""
                      }
                    },
                    "colorscale": {
                      "diverging": [
                        [
                          0,
                          "#8e0152"
                        ],
                        [
                          0.1,
                          "#c51b7d"
                        ],
                        [
                          0.2,
                          "#de77ae"
                        ],
                        [
                          0.3,
                          "#f1b6da"
                        ],
                        [
                          0.4,
                          "#fde0ef"
                        ],
                        [
                          0.5,
                          "#f7f7f7"
                        ],
                        [
                          0.6,
                          "#e6f5d0"
                        ],
                        [
                          0.7,
                          "#b8e186"
                        ],
                        [
                          0.8,
                          "#7fbc41"
                        ],
                        [
                          0.9,
                          "#4d9221"
                        ],
                        [
                          1,
                          "#276419"
                        ]
                      ],
                      "sequential": [
                        [
                          0,
                          "#0d0887"
                        ],
                        [
                          0.1111111111111111,
                          "#46039f"
                        ],
                        [
                          0.2222222222222222,
                          "#7201a8"
                        ],
                        [
                          0.3333333333333333,
                          "#9c179e"
                        ],
                        [
                          0.4444444444444444,
                          "#bd3786"
                        ],
                        [
                          0.5555555555555556,
                          "#d8576b"
                        ],
                        [
                          0.6666666666666666,
                          "#ed7953"
                        ],
                        [
                          0.7777777777777778,
                          "#fb9f3a"
                        ],
                        [
                          0.8888888888888888,
                          "#fdca26"
                        ],
                        [
                          1,
                          "#f0f921"
                        ]
                      ],
                      "sequentialminus": [
                        [
                          0,
                          "#0d0887"
                        ],
                        [
                          0.1111111111111111,
                          "#46039f"
                        ],
                        [
                          0.2222222222222222,
                          "#7201a8"
                        ],
                        [
                          0.3333333333333333,
                          "#9c179e"
                        ],
                        [
                          0.4444444444444444,
                          "#bd3786"
                        ],
                        [
                          0.5555555555555556,
                          "#d8576b"
                        ],
                        [
                          0.6666666666666666,
                          "#ed7953"
                        ],
                        [
                          0.7777777777777778,
                          "#fb9f3a"
                        ],
                        [
                          0.8888888888888888,
                          "#fdca26"
                        ],
                        [
                          1,
                          "#f0f921"
                        ]
                      ]
                    },
                    "colorway": [
                      "#636efa",
                      "#EF553B",
                      "#00cc96",
                      "#ab63fa",
                      "#FFA15A",
                      "#19d3f3",
                      "#FF6692",
                      "#B6E880",
                      "#FF97FF",
                      "#FECB52"
                    ],
                    "font": {
                      "color": "#2a3f5f"
                    },
                    "geo": {
                      "bgcolor": "white",
                      "lakecolor": "white",
                      "landcolor": "#E5ECF6",
                      "showlakes": true,
                      "showland": true,
                      "subunitcolor": "white"
                    },
                    "hoverlabel": {
                      "align": "left"
                    },
                    "hovermode": "closest",
                    "mapbox": {
                      "style": "light"
                    },
                    "paper_bgcolor": "white",
                    "plot_bgcolor": "#E5ECF6",
                    "polar": {
                      "angularaxis": {
                        "gridcolor": "white",
                        "linecolor": "white",
                        "ticks": ""
                      },
                      "bgcolor": "#E5ECF6",
                      "radialaxis": {
                        "gridcolor": "white",
                        "linecolor": "white",
                        "ticks": ""
                      }
                    },
                    "scene": {
                      "xaxis": {
                        "backgroundcolor": "#E5ECF6",
                        "gridcolor": "white",
                        "gridwidth": 2,
                        "linecolor": "white",
                        "showbackground": true,
                        "ticks": "",
                        "zerolinecolor": "white"
                      },
                      "yaxis": {
                        "backgroundcolor": "#E5ECF6",
                        "gridcolor": "white",
                        "gridwidth": 2,
                        "linecolor": "white",
                        "showbackground": true,
                        "ticks": "",
                        "zerolinecolor": "white"
                      },
                      "zaxis": {
                        "backgroundcolor": "#E5ECF6",
                        "gridcolor": "white",
                        "gridwidth": 2,
                        "linecolor": "white",
                        "showbackground": true,
                        "ticks": "",
                        "zerolinecolor": "white"
                      }
                    },
                    "shapedefaults": {
                      "line": {
                        "color": "#2a3f5f"
                      }
                    },
                    "ternary": {
                      "aaxis": {
                        "gridcolor": "white",
                        "linecolor": "white",
                        "ticks": ""
                      },
                      "baxis": {
                        "gridcolor": "white",
                        "linecolor": "white",
                        "ticks": ""
                      },
                      "bgcolor": "#E5ECF6",
                      "caxis": {
                        "gridcolor": "white",
                        "linecolor": "white",
                        "ticks": ""
                      }
                    },
                    "title": {
                      "x": 0.05
                    },
                    "xaxis": {
                      "automargin": true,
                      "gridcolor": "white",
                      "linecolor": "white",
                      "ticks": "",
                      "title": {
                        "standoff": 15
                      },
                      "zerolinecolor": "white",
                      "zerolinewidth": 2
                    },
                    "yaxis": {
                      "automargin": true,
                      "gridcolor": "white",
                      "linecolor": "white",
                      "ticks": "",
                      "title": {
                        "standoff": 15
                      },
                      "zerolinecolor": "white",
                      "zerolinewidth": 2
                    }
                  }
                },
                "title": {
                  "text": "Distribution for gender"
                }
              }
            }
          },
          "metadata": {},
          "output_type": "display_data"
        },
        {
          "data": {
            "application/vnd.plotly.v1+json": {
              "config": {
                "plotlyServerURL": "https://plot.ly"
              },
              "data": [
                {
                  "hole": 0.3,
                  "labels": [
                    "white",
                    "black",
                    "indian",
                    "asian",
                    "others"
                  ],
                  "type": "pie",
                  "values": [
                    10078,
                    4526,
                    3975,
                    3434,
                    1692
                  ]
                }
              ],
              "layout": {
                "template": {
                  "data": {
                    "bar": [
                      {
                        "error_x": {
                          "color": "#2a3f5f"
                        },
                        "error_y": {
                          "color": "#2a3f5f"
                        },
                        "marker": {
                          "line": {
                            "color": "#E5ECF6",
                            "width": 0.5
                          },
                          "pattern": {
                            "fillmode": "overlay",
                            "size": 10,
                            "solidity": 0.2
                          }
                        },
                        "type": "bar"
                      }
                    ],
                    "barpolar": [
                      {
                        "marker": {
                          "line": {
                            "color": "#E5ECF6",
                            "width": 0.5
                          },
                          "pattern": {
                            "fillmode": "overlay",
                            "size": 10,
                            "solidity": 0.2
                          }
                        },
                        "type": "barpolar"
                      }
                    ],
                    "carpet": [
                      {
                        "aaxis": {
                          "endlinecolor": "#2a3f5f",
                          "gridcolor": "white",
                          "linecolor": "white",
                          "minorgridcolor": "white",
                          "startlinecolor": "#2a3f5f"
                        },
                        "baxis": {
                          "endlinecolor": "#2a3f5f",
                          "gridcolor": "white",
                          "linecolor": "white",
                          "minorgridcolor": "white",
                          "startlinecolor": "#2a3f5f"
                        },
                        "type": "carpet"
                      }
                    ],
                    "choropleth": [
                      {
                        "colorbar": {
                          "outlinewidth": 0,
                          "ticks": ""
                        },
                        "type": "choropleth"
                      }
                    ],
                    "contour": [
                      {
                        "colorbar": {
                          "outlinewidth": 0,
                          "ticks": ""
                        },
                        "colorscale": [
                          [
                            0,
                            "#0d0887"
                          ],
                          [
                            0.1111111111111111,
                            "#46039f"
                          ],
                          [
                            0.2222222222222222,
                            "#7201a8"
                          ],
                          [
                            0.3333333333333333,
                            "#9c179e"
                          ],
                          [
                            0.4444444444444444,
                            "#bd3786"
                          ],
                          [
                            0.5555555555555556,
                            "#d8576b"
                          ],
                          [
                            0.6666666666666666,
                            "#ed7953"
                          ],
                          [
                            0.7777777777777778,
                            "#fb9f3a"
                          ],
                          [
                            0.8888888888888888,
                            "#fdca26"
                          ],
                          [
                            1,
                            "#f0f921"
                          ]
                        ],
                        "type": "contour"
                      }
                    ],
                    "contourcarpet": [
                      {
                        "colorbar": {
                          "outlinewidth": 0,
                          "ticks": ""
                        },
                        "type": "contourcarpet"
                      }
                    ],
                    "heatmap": [
                      {
                        "colorbar": {
                          "outlinewidth": 0,
                          "ticks": ""
                        },
                        "colorscale": [
                          [
                            0,
                            "#0d0887"
                          ],
                          [
                            0.1111111111111111,
                            "#46039f"
                          ],
                          [
                            0.2222222222222222,
                            "#7201a8"
                          ],
                          [
                            0.3333333333333333,
                            "#9c179e"
                          ],
                          [
                            0.4444444444444444,
                            "#bd3786"
                          ],
                          [
                            0.5555555555555556,
                            "#d8576b"
                          ],
                          [
                            0.6666666666666666,
                            "#ed7953"
                          ],
                          [
                            0.7777777777777778,
                            "#fb9f3a"
                          ],
                          [
                            0.8888888888888888,
                            "#fdca26"
                          ],
                          [
                            1,
                            "#f0f921"
                          ]
                        ],
                        "type": "heatmap"
                      }
                    ],
                    "heatmapgl": [
                      {
                        "colorbar": {
                          "outlinewidth": 0,
                          "ticks": ""
                        },
                        "colorscale": [
                          [
                            0,
                            "#0d0887"
                          ],
                          [
                            0.1111111111111111,
                            "#46039f"
                          ],
                          [
                            0.2222222222222222,
                            "#7201a8"
                          ],
                          [
                            0.3333333333333333,
                            "#9c179e"
                          ],
                          [
                            0.4444444444444444,
                            "#bd3786"
                          ],
                          [
                            0.5555555555555556,
                            "#d8576b"
                          ],
                          [
                            0.6666666666666666,
                            "#ed7953"
                          ],
                          [
                            0.7777777777777778,
                            "#fb9f3a"
                          ],
                          [
                            0.8888888888888888,
                            "#fdca26"
                          ],
                          [
                            1,
                            "#f0f921"
                          ]
                        ],
                        "type": "heatmapgl"
                      }
                    ],
                    "histogram": [
                      {
                        "marker": {
                          "pattern": {
                            "fillmode": "overlay",
                            "size": 10,
                            "solidity": 0.2
                          }
                        },
                        "type": "histogram"
                      }
                    ],
                    "histogram2d": [
                      {
                        "colorbar": {
                          "outlinewidth": 0,
                          "ticks": ""
                        },
                        "colorscale": [
                          [
                            0,
                            "#0d0887"
                          ],
                          [
                            0.1111111111111111,
                            "#46039f"
                          ],
                          [
                            0.2222222222222222,
                            "#7201a8"
                          ],
                          [
                            0.3333333333333333,
                            "#9c179e"
                          ],
                          [
                            0.4444444444444444,
                            "#bd3786"
                          ],
                          [
                            0.5555555555555556,
                            "#d8576b"
                          ],
                          [
                            0.6666666666666666,
                            "#ed7953"
                          ],
                          [
                            0.7777777777777778,
                            "#fb9f3a"
                          ],
                          [
                            0.8888888888888888,
                            "#fdca26"
                          ],
                          [
                            1,
                            "#f0f921"
                          ]
                        ],
                        "type": "histogram2d"
                      }
                    ],
                    "histogram2dcontour": [
                      {
                        "colorbar": {
                          "outlinewidth": 0,
                          "ticks": ""
                        },
                        "colorscale": [
                          [
                            0,
                            "#0d0887"
                          ],
                          [
                            0.1111111111111111,
                            "#46039f"
                          ],
                          [
                            0.2222222222222222,
                            "#7201a8"
                          ],
                          [
                            0.3333333333333333,
                            "#9c179e"
                          ],
                          [
                            0.4444444444444444,
                            "#bd3786"
                          ],
                          [
                            0.5555555555555556,
                            "#d8576b"
                          ],
                          [
                            0.6666666666666666,
                            "#ed7953"
                          ],
                          [
                            0.7777777777777778,
                            "#fb9f3a"
                          ],
                          [
                            0.8888888888888888,
                            "#fdca26"
                          ],
                          [
                            1,
                            "#f0f921"
                          ]
                        ],
                        "type": "histogram2dcontour"
                      }
                    ],
                    "mesh3d": [
                      {
                        "colorbar": {
                          "outlinewidth": 0,
                          "ticks": ""
                        },
                        "type": "mesh3d"
                      }
                    ],
                    "parcoords": [
                      {
                        "line": {
                          "colorbar": {
                            "outlinewidth": 0,
                            "ticks": ""
                          }
                        },
                        "type": "parcoords"
                      }
                    ],
                    "pie": [
                      {
                        "automargin": true,
                        "type": "pie"
                      }
                    ],
                    "scatter": [
                      {
                        "marker": {
                          "colorbar": {
                            "outlinewidth": 0,
                            "ticks": ""
                          }
                        },
                        "type": "scatter"
                      }
                    ],
                    "scatter3d": [
                      {
                        "line": {
                          "colorbar": {
                            "outlinewidth": 0,
                            "ticks": ""
                          }
                        },
                        "marker": {
                          "colorbar": {
                            "outlinewidth": 0,
                            "ticks": ""
                          }
                        },
                        "type": "scatter3d"
                      }
                    ],
                    "scattercarpet": [
                      {
                        "marker": {
                          "colorbar": {
                            "outlinewidth": 0,
                            "ticks": ""
                          }
                        },
                        "type": "scattercarpet"
                      }
                    ],
                    "scattergeo": [
                      {
                        "marker": {
                          "colorbar": {
                            "outlinewidth": 0,
                            "ticks": ""
                          }
                        },
                        "type": "scattergeo"
                      }
                    ],
                    "scattergl": [
                      {
                        "marker": {
                          "colorbar": {
                            "outlinewidth": 0,
                            "ticks": ""
                          }
                        },
                        "type": "scattergl"
                      }
                    ],
                    "scattermapbox": [
                      {
                        "marker": {
                          "colorbar": {
                            "outlinewidth": 0,
                            "ticks": ""
                          }
                        },
                        "type": "scattermapbox"
                      }
                    ],
                    "scatterpolar": [
                      {
                        "marker": {
                          "colorbar": {
                            "outlinewidth": 0,
                            "ticks": ""
                          }
                        },
                        "type": "scatterpolar"
                      }
                    ],
                    "scatterpolargl": [
                      {
                        "marker": {
                          "colorbar": {
                            "outlinewidth": 0,
                            "ticks": ""
                          }
                        },
                        "type": "scatterpolargl"
                      }
                    ],
                    "scatterternary": [
                      {
                        "marker": {
                          "colorbar": {
                            "outlinewidth": 0,
                            "ticks": ""
                          }
                        },
                        "type": "scatterternary"
                      }
                    ],
                    "surface": [
                      {
                        "colorbar": {
                          "outlinewidth": 0,
                          "ticks": ""
                        },
                        "colorscale": [
                          [
                            0,
                            "#0d0887"
                          ],
                          [
                            0.1111111111111111,
                            "#46039f"
                          ],
                          [
                            0.2222222222222222,
                            "#7201a8"
                          ],
                          [
                            0.3333333333333333,
                            "#9c179e"
                          ],
                          [
                            0.4444444444444444,
                            "#bd3786"
                          ],
                          [
                            0.5555555555555556,
                            "#d8576b"
                          ],
                          [
                            0.6666666666666666,
                            "#ed7953"
                          ],
                          [
                            0.7777777777777778,
                            "#fb9f3a"
                          ],
                          [
                            0.8888888888888888,
                            "#fdca26"
                          ],
                          [
                            1,
                            "#f0f921"
                          ]
                        ],
                        "type": "surface"
                      }
                    ],
                    "table": [
                      {
                        "cells": {
                          "fill": {
                            "color": "#EBF0F8"
                          },
                          "line": {
                            "color": "white"
                          }
                        },
                        "header": {
                          "fill": {
                            "color": "#C8D4E3"
                          },
                          "line": {
                            "color": "white"
                          }
                        },
                        "type": "table"
                      }
                    ]
                  },
                  "layout": {
                    "annotationdefaults": {
                      "arrowcolor": "#2a3f5f",
                      "arrowhead": 0,
                      "arrowwidth": 1
                    },
                    "autotypenumbers": "strict",
                    "coloraxis": {
                      "colorbar": {
                        "outlinewidth": 0,
                        "ticks": ""
                      }
                    },
                    "colorscale": {
                      "diverging": [
                        [
                          0,
                          "#8e0152"
                        ],
                        [
                          0.1,
                          "#c51b7d"
                        ],
                        [
                          0.2,
                          "#de77ae"
                        ],
                        [
                          0.3,
                          "#f1b6da"
                        ],
                        [
                          0.4,
                          "#fde0ef"
                        ],
                        [
                          0.5,
                          "#f7f7f7"
                        ],
                        [
                          0.6,
                          "#e6f5d0"
                        ],
                        [
                          0.7,
                          "#b8e186"
                        ],
                        [
                          0.8,
                          "#7fbc41"
                        ],
                        [
                          0.9,
                          "#4d9221"
                        ],
                        [
                          1,
                          "#276419"
                        ]
                      ],
                      "sequential": [
                        [
                          0,
                          "#0d0887"
                        ],
                        [
                          0.1111111111111111,
                          "#46039f"
                        ],
                        [
                          0.2222222222222222,
                          "#7201a8"
                        ],
                        [
                          0.3333333333333333,
                          "#9c179e"
                        ],
                        [
                          0.4444444444444444,
                          "#bd3786"
                        ],
                        [
                          0.5555555555555556,
                          "#d8576b"
                        ],
                        [
                          0.6666666666666666,
                          "#ed7953"
                        ],
                        [
                          0.7777777777777778,
                          "#fb9f3a"
                        ],
                        [
                          0.8888888888888888,
                          "#fdca26"
                        ],
                        [
                          1,
                          "#f0f921"
                        ]
                      ],
                      "sequentialminus": [
                        [
                          0,
                          "#0d0887"
                        ],
                        [
                          0.1111111111111111,
                          "#46039f"
                        ],
                        [
                          0.2222222222222222,
                          "#7201a8"
                        ],
                        [
                          0.3333333333333333,
                          "#9c179e"
                        ],
                        [
                          0.4444444444444444,
                          "#bd3786"
                        ],
                        [
                          0.5555555555555556,
                          "#d8576b"
                        ],
                        [
                          0.6666666666666666,
                          "#ed7953"
                        ],
                        [
                          0.7777777777777778,
                          "#fb9f3a"
                        ],
                        [
                          0.8888888888888888,
                          "#fdca26"
                        ],
                        [
                          1,
                          "#f0f921"
                        ]
                      ]
                    },
                    "colorway": [
                      "#636efa",
                      "#EF553B",
                      "#00cc96",
                      "#ab63fa",
                      "#FFA15A",
                      "#19d3f3",
                      "#FF6692",
                      "#B6E880",
                      "#FF97FF",
                      "#FECB52"
                    ],
                    "font": {
                      "color": "#2a3f5f"
                    },
                    "geo": {
                      "bgcolor": "white",
                      "lakecolor": "white",
                      "landcolor": "#E5ECF6",
                      "showlakes": true,
                      "showland": true,
                      "subunitcolor": "white"
                    },
                    "hoverlabel": {
                      "align": "left"
                    },
                    "hovermode": "closest",
                    "mapbox": {
                      "style": "light"
                    },
                    "paper_bgcolor": "white",
                    "plot_bgcolor": "#E5ECF6",
                    "polar": {
                      "angularaxis": {
                        "gridcolor": "white",
                        "linecolor": "white",
                        "ticks": ""
                      },
                      "bgcolor": "#E5ECF6",
                      "radialaxis": {
                        "gridcolor": "white",
                        "linecolor": "white",
                        "ticks": ""
                      }
                    },
                    "scene": {
                      "xaxis": {
                        "backgroundcolor": "#E5ECF6",
                        "gridcolor": "white",
                        "gridwidth": 2,
                        "linecolor": "white",
                        "showbackground": true,
                        "ticks": "",
                        "zerolinecolor": "white"
                      },
                      "yaxis": {
                        "backgroundcolor": "#E5ECF6",
                        "gridcolor": "white",
                        "gridwidth": 2,
                        "linecolor": "white",
                        "showbackground": true,
                        "ticks": "",
                        "zerolinecolor": "white"
                      },
                      "zaxis": {
                        "backgroundcolor": "#E5ECF6",
                        "gridcolor": "white",
                        "gridwidth": 2,
                        "linecolor": "white",
                        "showbackground": true,
                        "ticks": "",
                        "zerolinecolor": "white"
                      }
                    },
                    "shapedefaults": {
                      "line": {
                        "color": "#2a3f5f"
                      }
                    },
                    "ternary": {
                      "aaxis": {
                        "gridcolor": "white",
                        "linecolor": "white",
                        "ticks": ""
                      },
                      "baxis": {
                        "gridcolor": "white",
                        "linecolor": "white",
                        "ticks": ""
                      },
                      "bgcolor": "#E5ECF6",
                      "caxis": {
                        "gridcolor": "white",
                        "linecolor": "white",
                        "ticks": ""
                      }
                    },
                    "title": {
                      "x": 0.05
                    },
                    "xaxis": {
                      "automargin": true,
                      "gridcolor": "white",
                      "linecolor": "white",
                      "ticks": "",
                      "title": {
                        "standoff": 15
                      },
                      "zerolinecolor": "white",
                      "zerolinewidth": 2
                    },
                    "yaxis": {
                      "automargin": true,
                      "gridcolor": "white",
                      "linecolor": "white",
                      "ticks": "",
                      "title": {
                        "standoff": 15
                      },
                      "zerolinecolor": "white",
                      "zerolinewidth": 2
                    }
                  }
                },
                "title": {
                  "text": "Distribution for race"
                }
              }
            }
          },
          "metadata": {},
          "output_type": "display_data"
        }
      ],
      "source": [
        "plot_distribution(data['gender'])\n",
        "plot_distribution(data['race'])"
      ]
    },
    {
      "cell_type": "code",
      "execution_count": null,
      "metadata": {
        "id": "XmQsWd2L1ZZy"
      },
      "outputs": [],
      "source": [
        "fig = px.histogram(data, x=\"age\", nbins=20)\n",
        "fig.update_layout(title_text='Age distribution on Train Dataset')\n",
        "fig.show()"
      ]
    },
    {
      "cell_type": "code",
      "execution_count": null,
      "metadata": {
        "id": "96X2908p1gea"
      },
      "outputs": [],
      "source": [
        "plot_distribution(data['gender'])\n",
        "plot_distribution(data['race'])"
      ]
    },
    {
      "cell_type": "code",
      "execution_count": null,
      "metadata": {
        "id": "rxXeol_81glU"
      },
      "outputs": [],
      "source": [
        "fig = px.histogram(data, x=\"age\", nbins=20)\n",
        "fig.update_layout(title_text='Age distribution on Test Dataset')\n",
        "fig.show()"
      ]
    },
    {
      "cell_type": "markdown",
      "metadata": {
        "id": "ArDZcEaE3IPg"
      },
      "source": [
        "Face dataset generator"
      ]
    },
    {
      "cell_type": "code",
      "execution_count": 4,
      "metadata": {
        "id": "RkW34RPX2LAq"
      },
      "outputs": [],
      "source": [
        "img_height = 128\n",
        "img_width = 128\n",
        "split = 0.7 # train test split\n",
        "\n",
        "class FaceDataGenerator():\n",
        "  def __init__(self, dataframe):\n",
        "    self.dataframe = dataframe\n",
        "\n",
        "  def preprocess_image(self, file):\n",
        "    img = Image.open(file)\n",
        "    img = img.resize((img_width, img_height))\n",
        "    img = np.array(img) / 255.0\n",
        "    return img\n",
        "  \n",
        "  def alias(self):\n",
        "    p = np.random.permutation(len(self.dataframe))\n",
        "    train_up_to = int(len(self.dataframe) * split)\n",
        "    train_idx = p[:train_up_to]\n",
        "    test_idx = p[train_up_to:]\n",
        "    train_up_to = int(train_up_to * split)\n",
        "    train_idx, valid_idx = train_idx[:train_up_to], train_idx[train_up_to:]\n",
        "    self.dataframe['gender_id'] = self.dataframe['gender'].map(lambda gender: dataset_dict['gender_alias'][gender.strip()])\n",
        "    self.dataframe['race_id'] = self.dataframe['race'].map(lambda race: dataset_dict['race_alias'][race])\n",
        "    self.max_age = self.dataframe['age'].max()\n",
        "\n",
        "    return train_idx, valid_idx, test_idx\n",
        "\n",
        "  def generate_images(self, i_idx, is_training, batch_size=8):\n",
        "    # arrays to store our batched data\n",
        "    images, ages, races, genders = [], [], [], []\n",
        "    while True:\n",
        "      for idx in i_idx:\n",
        "          person = self.dataframe.iloc[idx]\n",
        "          \n",
        "          age = person['age']\n",
        "          race = person['race_id']\n",
        "          gender = person['gender_id']\n",
        "          filename = person['filename']\n",
        "          \n",
        "          im = self.preprocess_image(dir + '/' + filename)\n",
        "          \n",
        "          ages.append(age / self.max_age)\n",
        "          races.append(to_categorical(race, len(dataset_dict['race_id'])))\n",
        "          genders.append(to_categorical(gender, len(dataset_dict['gender_id'])))\n",
        "          images.append(im)\n",
        "          \n",
        "          # yielding condition\n",
        "          if len(images) >= batch_size:\n",
        "              yield np.array(images), [np.array(ages), np.array(races), np.array(genders)]\n",
        "              images, ages, races, genders = [], [], [], []\n",
        "              \n",
        "      if not is_training:\n",
        "          break"
      ]
    },
    {
      "cell_type": "code",
      "execution_count": 5,
      "metadata": {
        "colab": {
          "base_uri": "https://localhost:8080/"
        },
        "id": "gjxUvHFx30nG",
        "outputId": "c68126ab-f8c6-49f5-d6fd-470a9aa24d7b"
      },
      "outputs": [],
      "source": [
        "generator = FaceDataGenerator(data)\n",
        "train_idx, valid_idx, test_idx = generator.alias()"
      ]
    },
    {
      "cell_type": "code",
      "execution_count": 6,
      "metadata": {},
      "outputs": [
        {
          "name": "stdout",
          "output_type": "stream",
          "text": [
            "Training sample: 11615\n",
            "Validation sample: 4978\n",
            "Testing sample: 7112\n"
          ]
        }
      ],
      "source": [
        "print(f'Training sample: {len(train_idx)}')\n",
        "print(f'Validation sample: {len(valid_idx)}')\n",
        "print(f'Testing sample: {len(test_idx)}')"
      ]
    },
    {
      "cell_type": "markdown",
      "metadata": {
        "id": "UtZnNB0Nm3g_"
      },
      "source": [
        "\n",
        "## 3) Model\n",
        "\n",
        "Our aim is to develop a model which has lesser parameters ( which implies lesser inference time and size ) but powerful enough so that it can generalize better.\n",
        "\n",
        "* The model takes in a batch of shape `[ None , 128 , 128 , 3 ]` and performs a number of convolutions on it as determined by `num_blocks`.\n",
        "* Each block consists of a sequence of layers : `Conv2D -> BatchNorm -> LeakyReLU`\n",
        "\n",
        "\n",
        "\n",
        "* If `lite_model` is set to `True`, we use [Separable Convolutions](https://towardsdatascience.com/a-basic-introduction-to-separable-convolutions-b99ec3102728) which have lesser parameters. We could achieve a *faster* model, compromising its performance.\n",
        "\n",
        "* We stack such`num_blocks` blocks sequentially, where the no. of filters for each layer is taken from `num_filters`.\n",
        "\n",
        "* Next we add a number of `Dense` layers to learn the features extracted by convolutional layers. Note, we also add a `Dropout` layer, to reduce overfitting. The `rate` for each `Dropout` layer is decreased subsequently for each layer, so that the learnability of `Dense` layer with lesser units ( neurons ) is not affected.\n",
        "\n",
        "* The last `Dense` layer applies the softmax activation function which yields a probability distribution for the two classes `male` and `female`.\n",
        "\n",
        "> See [this](https://machinelearningmastery.com/how-to-reduce-overfitting-in-deep-learning-with-weight-regularization/) blog for choosing the weight decay values used in the above two blocks.\n",
        "\n",
        "* 👉🏻 The output of the model is a tensor with shape `[ None, 2 ]`\n"
      ]
    },
    {
      "cell_type": "code",
      "execution_count": 7,
      "metadata": {
        "id": "_qmw6DHVG2QD"
      },
      "outputs": [
        {
          "name": "stdout",
          "output_type": "stream",
          "text": [
            "Model: \"model\"\n",
            "__________________________________________________________________________________________________\n",
            "Layer (type)                    Output Shape         Param #     Connected to                     \n",
            "==================================================================================================\n",
            "input_1 (InputLayer)            [(None, 128, 128, 3) 0                                            \n",
            "__________________________________________________________________________________________________\n",
            "conv2d_6 (Conv2D)               (None, 128, 128, 16) 448         input_1[0][0]                    \n",
            "__________________________________________________________________________________________________\n",
            "conv2d_3 (Conv2D)               (None, 128, 128, 16) 448         input_1[0][0]                    \n",
            "__________________________________________________________________________________________________\n",
            "conv2d (Conv2D)                 (None, 128, 128, 16) 448         input_1[0][0]                    \n",
            "__________________________________________________________________________________________________\n",
            "activation_8 (Activation)       (None, 128, 128, 16) 0           conv2d_6[0][0]                   \n",
            "__________________________________________________________________________________________________\n",
            "activation_4 (Activation)       (None, 128, 128, 16) 0           conv2d_3[0][0]                   \n",
            "__________________________________________________________________________________________________\n",
            "activation (Activation)         (None, 128, 128, 16) 0           conv2d[0][0]                     \n",
            "__________________________________________________________________________________________________\n",
            "batch_normalization_8 (BatchNor (None, 128, 128, 16) 64          activation_8[0][0]               \n",
            "__________________________________________________________________________________________________\n",
            "batch_normalization_4 (BatchNor (None, 128, 128, 16) 64          activation_4[0][0]               \n",
            "__________________________________________________________________________________________________\n",
            "batch_normalization (BatchNorma (None, 128, 128, 16) 64          activation[0][0]                 \n",
            "__________________________________________________________________________________________________\n",
            "max_pooling2d_6 (MaxPooling2D)  (None, 42, 42, 16)   0           batch_normalization_8[0][0]      \n",
            "__________________________________________________________________________________________________\n",
            "max_pooling2d_3 (MaxPooling2D)  (None, 42, 42, 16)   0           batch_normalization_4[0][0]      \n",
            "__________________________________________________________________________________________________\n",
            "max_pooling2d (MaxPooling2D)    (None, 42, 42, 16)   0           batch_normalization[0][0]        \n",
            "__________________________________________________________________________________________________\n",
            "dropout_8 (Dropout)             (None, 42, 42, 16)   0           max_pooling2d_6[0][0]            \n",
            "__________________________________________________________________________________________________\n",
            "dropout_4 (Dropout)             (None, 42, 42, 16)   0           max_pooling2d_3[0][0]            \n",
            "__________________________________________________________________________________________________\n",
            "dropout (Dropout)               (None, 42, 42, 16)   0           max_pooling2d[0][0]              \n",
            "__________________________________________________________________________________________________\n",
            "conv2d_7 (Conv2D)               (None, 42, 42, 32)   4640        dropout_8[0][0]                  \n",
            "__________________________________________________________________________________________________\n",
            "conv2d_4 (Conv2D)               (None, 42, 42, 32)   4640        dropout_4[0][0]                  \n",
            "__________________________________________________________________________________________________\n",
            "conv2d_1 (Conv2D)               (None, 42, 42, 32)   4640        dropout[0][0]                    \n",
            "__________________________________________________________________________________________________\n",
            "activation_9 (Activation)       (None, 42, 42, 32)   0           conv2d_7[0][0]                   \n",
            "__________________________________________________________________________________________________\n",
            "activation_5 (Activation)       (None, 42, 42, 32)   0           conv2d_4[0][0]                   \n",
            "__________________________________________________________________________________________________\n",
            "activation_1 (Activation)       (None, 42, 42, 32)   0           conv2d_1[0][0]                   \n",
            "__________________________________________________________________________________________________\n",
            "batch_normalization_9 (BatchNor (None, 42, 42, 32)   128         activation_9[0][0]               \n",
            "__________________________________________________________________________________________________\n",
            "batch_normalization_5 (BatchNor (None, 42, 42, 32)   128         activation_5[0][0]               \n",
            "__________________________________________________________________________________________________\n",
            "batch_normalization_1 (BatchNor (None, 42, 42, 32)   128         activation_1[0][0]               \n",
            "__________________________________________________________________________________________________\n",
            "max_pooling2d_7 (MaxPooling2D)  (None, 21, 21, 32)   0           batch_normalization_9[0][0]      \n",
            "__________________________________________________________________________________________________\n",
            "max_pooling2d_4 (MaxPooling2D)  (None, 21, 21, 32)   0           batch_normalization_5[0][0]      \n",
            "__________________________________________________________________________________________________\n",
            "max_pooling2d_1 (MaxPooling2D)  (None, 21, 21, 32)   0           batch_normalization_1[0][0]      \n",
            "__________________________________________________________________________________________________\n",
            "dropout_9 (Dropout)             (None, 21, 21, 32)   0           max_pooling2d_7[0][0]            \n",
            "__________________________________________________________________________________________________\n",
            "dropout_5 (Dropout)             (None, 21, 21, 32)   0           max_pooling2d_4[0][0]            \n",
            "__________________________________________________________________________________________________\n",
            "dropout_1 (Dropout)             (None, 21, 21, 32)   0           max_pooling2d_1[0][0]            \n",
            "__________________________________________________________________________________________________\n",
            "conv2d_8 (Conv2D)               (None, 21, 21, 32)   9248        dropout_9[0][0]                  \n",
            "__________________________________________________________________________________________________\n",
            "conv2d_5 (Conv2D)               (None, 21, 21, 32)   9248        dropout_5[0][0]                  \n",
            "__________________________________________________________________________________________________\n",
            "conv2d_2 (Conv2D)               (None, 21, 21, 32)   9248        dropout_1[0][0]                  \n",
            "__________________________________________________________________________________________________\n",
            "activation_10 (Activation)      (None, 21, 21, 32)   0           conv2d_8[0][0]                   \n",
            "__________________________________________________________________________________________________\n",
            "activation_6 (Activation)       (None, 21, 21, 32)   0           conv2d_5[0][0]                   \n",
            "__________________________________________________________________________________________________\n",
            "activation_2 (Activation)       (None, 21, 21, 32)   0           conv2d_2[0][0]                   \n",
            "__________________________________________________________________________________________________\n",
            "batch_normalization_10 (BatchNo (None, 21, 21, 32)   128         activation_10[0][0]              \n",
            "__________________________________________________________________________________________________\n",
            "batch_normalization_6 (BatchNor (None, 21, 21, 32)   128         activation_6[0][0]               \n",
            "__________________________________________________________________________________________________\n",
            "batch_normalization_2 (BatchNor (None, 21, 21, 32)   128         activation_2[0][0]               \n",
            "__________________________________________________________________________________________________\n",
            "max_pooling2d_8 (MaxPooling2D)  (None, 10, 10, 32)   0           batch_normalization_10[0][0]     \n",
            "__________________________________________________________________________________________________\n",
            "max_pooling2d_5 (MaxPooling2D)  (None, 10, 10, 32)   0           batch_normalization_6[0][0]      \n",
            "__________________________________________________________________________________________________\n",
            "max_pooling2d_2 (MaxPooling2D)  (None, 10, 10, 32)   0           batch_normalization_2[0][0]      \n",
            "__________________________________________________________________________________________________\n",
            "dropout_10 (Dropout)            (None, 10, 10, 32)   0           max_pooling2d_8[0][0]            \n",
            "__________________________________________________________________________________________________\n",
            "dropout_6 (Dropout)             (None, 10, 10, 32)   0           max_pooling2d_5[0][0]            \n",
            "__________________________________________________________________________________________________\n",
            "dropout_2 (Dropout)             (None, 10, 10, 32)   0           max_pooling2d_2[0][0]            \n",
            "__________________________________________________________________________________________________\n",
            "flatten_2 (Flatten)             (None, 3200)         0           dropout_10[0][0]                 \n",
            "__________________________________________________________________________________________________\n",
            "flatten_1 (Flatten)             (None, 3200)         0           dropout_6[0][0]                  \n",
            "__________________________________________________________________________________________________\n",
            "flatten (Flatten)               (None, 3200)         0           dropout_2[0][0]                  \n",
            "__________________________________________________________________________________________________\n",
            "dense_2 (Dense)                 (None, 128)          409728      flatten_2[0][0]                  \n",
            "__________________________________________________________________________________________________\n",
            "dense_1 (Dense)                 (None, 128)          409728      flatten_1[0][0]                  \n",
            "__________________________________________________________________________________________________\n",
            "dense (Dense)                   (None, 128)          409728      flatten[0][0]                    \n",
            "__________________________________________________________________________________________________\n",
            "activation_11 (Activation)      (None, 128)          0           dense_2[0][0]                    \n",
            "__________________________________________________________________________________________________\n",
            "activation_7 (Activation)       (None, 128)          0           dense_1[0][0]                    \n",
            "__________________________________________________________________________________________________\n",
            "activation_3 (Activation)       (None, 128)          0           dense[0][0]                      \n",
            "__________________________________________________________________________________________________\n",
            "batch_normalization_11 (BatchNo (None, 128)          512         activation_11[0][0]              \n",
            "__________________________________________________________________________________________________\n",
            "batch_normalization_7 (BatchNor (None, 128)          512         activation_7[0][0]               \n",
            "__________________________________________________________________________________________________\n",
            "batch_normalization_3 (BatchNor (None, 128)          512         activation_3[0][0]               \n",
            "__________________________________________________________________________________________________\n",
            "dropout_11 (Dropout)            (None, 128)          0           batch_normalization_11[0][0]     \n",
            "__________________________________________________________________________________________________\n",
            "dropout_7 (Dropout)             (None, 128)          0           batch_normalization_7[0][0]      \n",
            "__________________________________________________________________________________________________\n",
            "dropout_3 (Dropout)             (None, 128)          0           batch_normalization_3[0][0]      \n",
            "__________________________________________________________________________________________________\n",
            "age_output (Dense)              (None, 1)            129         dropout_11[0][0]                 \n",
            "__________________________________________________________________________________________________\n",
            "race_output (Dense)             (None, 5)            645         dropout_7[0][0]                  \n",
            "__________________________________________________________________________________________________\n",
            "gender_output (Dense)           (None, 2)            258         dropout_3[0][0]                  \n",
            "==================================================================================================\n",
            "Total params: 1,275,720\n",
            "Trainable params: 1,274,472\n",
            "Non-trainable params: 1,248\n",
            "__________________________________________________________________________________________________\n"
          ]
        }
      ],
      "source": [
        "MODEL_INPUT_IMAGE_SIZE = [128, 128]\n",
        "# Negative slope coefficient for LeakyReLU.\n",
        "leaky_relu_alpha = 0.2\n",
        "\n",
        "lite_model = True\n",
        "\n",
        "# Define the conv block.\n",
        "def conv( x , num_filters , kernel_size=( 3 , 3 ) , strides=1 ):\n",
        "    if lite_model:\n",
        "        x = tf.keras.layers.SeparableConv2D( num_filters ,\n",
        "                                            kernel_size=kernel_size ,\n",
        "                                            strides=strides, \n",
        "                                            use_bias=False ,\n",
        "                                            kernel_initializer=tf.keras.initializers.HeNormal() ,\n",
        "                                            kernel_regularizer=tf.keras.regularizers.L2( 1e-5 )\n",
        "                                             )( x )\n",
        "    else:\n",
        "        x = tf.keras.layers.Conv2D( num_filters ,\n",
        "                                   kernel_size=kernel_size ,\n",
        "                                   strides=strides ,\n",
        "                                   use_bias=False ,\n",
        "                                   kernel_initializer=tf.keras.initializers.HeNormal() ,\n",
        "                                   kernel_regularizer=tf.keras.regularizers.L2( 1e-5 )\n",
        "                                    )( x )\n",
        "\n",
        "    x = tf.keras.layers.BatchNormalization()( x )\n",
        "    x = tf.keras.layers.LeakyReLU( leaky_relu_alpha )( x )\n",
        "    return x\n",
        "\n",
        "def dense( x , filters , dropout_rate ):\n",
        "    x = tf.keras.layers.Dense( filters , kernel_regularizer=tf.keras.regularizers.L2( 0.1 ) , bias_regularizer=tf.keras.regularizers.L2( 0.1 ) )( x )\n",
        "    x = tf.keras.layers.LeakyReLU( alpha=leaky_relu_alpha )( x )\n",
        "    x = tf.keras.layers.Dropout( dropout_rate )( x )\n",
        "    return x\n",
        "\n",
        "# No. of convolution layers to be added.\n",
        "num_blocks = 5\n",
        "\n",
        "# Num filters for each conv layer.\n",
        "num_filters = [ 16 , 32 , 64 , 128 , 256 , 256 ]\n",
        "\n",
        "# Kernel sizes for each conv layer.\n",
        "kernel_sizes = [ 3 , 3 , 3 , 3 , 3 , 3 ]\n",
        "\n",
        "# Init a Input Layer.\n",
        "inputs = tf.keras.layers.Input(shape=MODEL_INPUT_IMAGE_SIZE + [3])\n",
        "\n",
        "def standard_conv_layers(inputs):\n",
        "  x = Conv2D(16, (3, 3), padding=\"same\")(inputs)\n",
        "  x = Activation(\"relu\")(x)\n",
        "  x = BatchNormalization(axis=-1)(x)\n",
        "  x = MaxPooling2D(pool_size=(3, 3))(x)\n",
        "  x = Dropout(0.25)(x)\n",
        "\n",
        "  x = Conv2D(32, (3, 3), padding=\"same\")(x)\n",
        "  x = Activation(\"relu\")(x)\n",
        "  x = BatchNormalization(axis=-1)(x)\n",
        "  x = MaxPooling2D(pool_size=(2, 2))(x)\n",
        "  x = Dropout(0.25)(x)\n",
        "\n",
        "  x = Conv2D(32, (3, 3), padding=\"same\")(x)\n",
        "  x = Activation(\"relu\")(x)\n",
        "  x = BatchNormalization(axis=-1)(x)\n",
        "  x = MaxPooling2D(pool_size=(2, 2))(x)\n",
        "  x = Dropout(0.25)(x)\n",
        "\n",
        "  return x\n",
        "#################### Gender Classifier ###########################\n",
        "# Flatten the output of the last Conv layer.\n",
        "x = inputs\n",
        "# x = Lambda(lambda c: tf.image.rgb_to_grayscale(c))(inputs)\n",
        "x = standard_conv_layers(x)\n",
        "x = Flatten()(x)\n",
        "x = Dense(128)(x)\n",
        "x = Activation(\"relu\")(x)\n",
        "x = BatchNormalization()(x)\n",
        "x = Dropout(0.5)(x)\n",
        "gender = Dense(2, activation='sigmoid', name='gender_output')(x)\n",
        "#################### End of Gender Classifier ###########################\n",
        "\n",
        "#################### Race Classifier ###########################\n",
        "x = inputs\n",
        "x = standard_conv_layers(inputs)\n",
        "x = Flatten()(x)\n",
        "x = Dense(128)(x)\n",
        "x = Activation(\"relu\")(x)\n",
        "x = BatchNormalization()(x)\n",
        "x = Dropout(0.5)(x)\n",
        "race = tf.keras.layers.Dense(5, activation='softmax', name='race_output')(x)\n",
        "#################### End of Race Classifier ###########################\n",
        "\n",
        "#################### Age Classifier ###########################\n",
        "x = inputs\n",
        "x = standard_conv_layers(inputs)\n",
        "x = Flatten()(x)\n",
        "x = Dense(128)(x)\n",
        "x = Activation(\"relu\")(x)\n",
        "x = BatchNormalization()(x)\n",
        "x = Dropout(0.5)(x)\n",
        "age = tf.keras.layers.Dense(1, activation='linear', name='age_output')(x)\n",
        "#################### End of Age Classifier ###########################\n",
        "\n",
        "# Build the Model\n",
        "model = tf.keras.models.Model(inputs , [age, race, gender])\n",
        "\n",
        "# Uncomment the below to view the summary of the model.\n",
        "model.summary()\n",
        "# tf.keras.utils.plot_model(model) # add to_file='architecture.png' to export architecture \n"
      ]
    },
    {
      "cell_type": "markdown",
      "metadata": {
        "id": "yobN_O2S3en9"
      },
      "source": [
        "\n",
        "Run this cell to visualize the training of the model in TensorBoard ( in this notebook itself )."
      ]
    },
    {
      "cell_type": "markdown",
      "metadata": {
        "id": "9JMUGVWqgAdR"
      },
      "source": [
        "## 4) **Compiling the model ( and other callbacks )** 🧱\n",
        "\n",
        "Once we've defined the architecture for our model, we'll compile our Keras model and also initialize some useful callbacks.\n",
        "\n",
        "* As we're performing classification, we'll use the Categorical Crossentropy loss function. See [`tf.keras.losses.CategoricalCrossentropy`](https://www.tensorflow.org/api_docs/python/tf/keras/losses/CategoricalCrossentropy) for more details.\n",
        "\n",
        "* We'll use the Adam optimizer for training our model. See [`tf.keras.optimizers.Adam`](https://www.tensorflow.org/api_docs/python/tf/keras/optimizers/Adam) for more details.\n",
        "\n",
        "* For evaluating the performance of our model, we measure the accuracy of our model. See [`tf.keras.metrics.Accuracy`](https://www.tensorflow.org/api_docs/python/tf/keras/metrics/Accuracy) for more details.\n",
        "\n",
        "\n",
        "#### Callbacks:\n",
        "\n",
        "* [`tf.keras.callbacks.ModelCheckpoint`](https://www.tensorflow.org/api_docs/python/tf/keras/callbacks/ModelCheckpoint) to save the Keras model as an H5 file after every epoch.\n",
        "\n",
        "* [`tf.keras.callbacks.TensorBoard`](https://www.tensorflow.org/api_docs/python/tf/keras/callbacks/TensorBoard) to visualize the training with TensorBoard.\n",
        "\n",
        "* [`tf.keras.callbacks.EarlyStopping`](https://www.tensorflow.org/api_docs/python/tf/keras/callbacks/EarlyStopping) to stop the training when the evaluation metric i.e the MAE stops improving on the test dataset."
      ]
    },
    {
      "cell_type": "code",
      "execution_count": 8,
      "metadata": {
        "id": "cow71DK6kjUQ"
      },
      "outputs": [],
      "source": [
        "learning_rate = 1e-4\n",
        "num_epochs = 50 \n",
        "\n",
        "save_dir = './checkpoints'\n",
        "checkpoint_callback = tf.keras.callbacks.ModelCheckpoint(save_dir)\n",
        "early_stopping_callback = tf.keras.callbacks.EarlyStopping(monitor='val_loss', patience=25)\n",
        "logdir = os.path.join(\"./logs/tb_logs\" , datetime.datetime.now().strftime(\"%Y%m%d-%H%M%S\"))\n",
        "tensorboard_callback = tf.keras.callbacks.TensorBoard(logdir)\n",
        "\n",
        "model.compile(\n",
        "    optimizer = tf.keras.optimizers.Adam(\n",
        "        learning_rate=learning_rate,\n",
        "        decay=learning_rate/num_epochs\n",
        "    ),\n",
        "    loss = {\n",
        "        'age_output': 'mse',\n",
        "        'race_output': 'categorical_crossentropy',\n",
        "        'gender_output': 'binary_crossentropy'\n",
        "    },\n",
        "    loss_weights={\n",
        "        'age_output': 4., \n",
        "        'race_output': 1.5, \n",
        "        'gender_output': 0.1\n",
        "    },\n",
        "    metrics = {\n",
        "        'age_output': 'mae',\n",
        "        'race_output': 'accuracy',\n",
        "        'gender_output': 'accuracy'\n",
        "    }\n",
        ")\n"
      ]
    },
    {
      "cell_type": "markdown",
      "metadata": {
        "id": "CtpRh9y0orKo"
      },
      "source": [
        "## 5) **Train and Evaluate the Model** 🏋🏻‍♂️\n",
        "\n",
        "Start the training loop with all callbacks packed in.\n"
      ]
    },
    {
      "cell_type": "code",
      "execution_count": 9,
      "metadata": {
        "colab": {
          "base_uri": "https://localhost:8080/"
        },
        "id": "RddzZAhSgTQ5",
        "outputId": "c5f07c38-eea9-4b8f-e53a-42955cf3db49"
      },
      "outputs": [
        {
          "name": "stderr",
          "output_type": "stream",
          "text": [
            "D:\\anaconda3\\envs\\MDP\\lib\\site-packages\\keras\\engine\\training.py:1972: UserWarning: `Model.fit_generator` is deprecated and will be removed in a future version. Please use `Model.fit`, which supports generators.\n",
            "  warnings.warn('`Model.fit_generator` is deprecated and '\n"
          ]
        },
        {
          "name": "stdout",
          "output_type": "stream",
          "text": [
            "Epoch 1/50\n",
            "362/362 [==============================] - 40s 101ms/step - loss: 14.7739 - age_output_loss: 2.9119 - race_output_loss: 2.0329 - gender_output_loss: 0.7712 - age_output_mae: 1.3343 - race_output_accuracy: 0.3625 - gender_output_accuracy: 0.6823 - val_loss: 8.3442 - val_age_output_loss: 1.1577 - val_race_output_loss: 2.4156 - val_gender_output_loss: 0.9016 - val_age_output_mae: 0.8843 - val_race_output_accuracy: 0.4218 - val_gender_output_accuracy: 0.5377\n",
            "INFO:tensorflow:Assets written to: .\\checkpoints\\assets\n",
            "Epoch 2/50\n",
            "362/362 [==============================] - 29s 80ms/step - loss: 9.9246 - age_output_loss: 1.8618 - race_output_loss: 1.6121 - gender_output_loss: 0.5940 - age_output_mae: 1.0683 - race_output_accuracy: 0.4540 - gender_output_accuracy: 0.7599 - val_loss: 8.8957 - val_age_output_loss: 1.4783 - val_race_output_loss: 1.9486 - val_gender_output_loss: 0.5953 - val_age_output_mae: 0.6638 - val_race_output_accuracy: 0.4369 - val_gender_output_accuracy: 0.7546\n",
            "INFO:tensorflow:Assets written to: .\\checkpoints\\assets\n",
            "Epoch 3/50\n",
            "362/362 [==============================] - 30s 83ms/step - loss: 7.6106 - age_output_loss: 1.3568 - race_output_loss: 1.4199 - gender_output_loss: 0.5350 - age_output_mae: 0.9023 - race_output_accuracy: 0.5163 - gender_output_accuracy: 0.7846 - val_loss: 19.9433 - val_age_output_loss: 4.2627 - val_race_output_loss: 1.8930 - val_gender_output_loss: 0.5323 - val_age_output_mae: 0.9962 - val_race_output_accuracy: 0.4808 - val_gender_output_accuracy: 0.8032\n",
            "INFO:tensorflow:Assets written to: .\\checkpoints\\assets\n",
            "Epoch 4/50\n",
            "362/362 [==============================] - 32s 88ms/step - loss: 6.2082 - age_output_loss: 1.0598 - race_output_loss: 1.2799 - gender_output_loss: 0.4902 - age_output_mae: 0.7903 - race_output_accuracy: 0.5550 - gender_output_accuracy: 0.8033 - val_loss: 20.8351 - val_age_output_loss: 4.6546 - val_race_output_loss: 1.4439 - val_gender_output_loss: 0.5108 - val_age_output_mae: 1.0090 - val_race_output_accuracy: 0.5234 - val_gender_output_accuracy: 0.8198\n",
            "INFO:tensorflow:Assets written to: .\\checkpoints\\assets\n",
            "Epoch 5/50\n",
            "362/362 [==============================] - 31s 85ms/step - loss: 5.1143 - age_output_loss: 0.8195 - race_output_loss: 1.1940 - gender_output_loss: 0.4526 - age_output_mae: 0.6958 - race_output_accuracy: 0.5867 - gender_output_accuracy: 0.8165 - val_loss: 28.0882 - val_age_output_loss: 6.3414 - val_race_output_loss: 1.7837 - val_gender_output_loss: 0.4707 - val_age_output_mae: 1.1754 - val_race_output_accuracy: 0.4982 - val_gender_output_accuracy: 0.8292\n",
            "INFO:tensorflow:Assets written to: .\\checkpoints\\assets\n",
            "Epoch 6/50\n",
            "362/362 [==============================] - 26s 73ms/step - loss: 4.2838 - age_output_loss: 0.6454 - race_output_loss: 1.1055 - gender_output_loss: 0.4387 - age_output_mae: 0.6215 - race_output_accuracy: 0.6134 - gender_output_accuracy: 0.8219 - val_loss: 20.9999 - val_age_output_loss: 4.6838 - val_race_output_loss: 1.4823 - val_gender_output_loss: 0.4113 - val_age_output_mae: 0.9395 - val_race_output_accuracy: 0.5381 - val_gender_output_accuracy: 0.8393\n",
            "INFO:tensorflow:Assets written to: .\\checkpoints\\assets\n",
            "Epoch 7/50\n",
            "362/362 [==============================] - 25s 69ms/step - loss: 3.6148 - age_output_loss: 0.5035 - race_output_loss: 1.0395 - gender_output_loss: 0.4152 - age_output_mae: 0.5449 - race_output_accuracy: 0.6381 - gender_output_accuracy: 0.8294 - val_loss: 23.0635 - val_age_output_loss: 5.1893 - val_race_output_loss: 1.5070 - val_gender_output_loss: 0.4578 - val_age_output_mae: 1.0260 - val_race_output_accuracy: 0.5480 - val_gender_output_accuracy: 0.8389\n",
            "INFO:tensorflow:Assets written to: .\\checkpoints\\assets\n",
            "Epoch 8/50\n",
            "362/362 [==============================] - 26s 71ms/step - loss: 3.1208 - age_output_loss: 0.3940 - race_output_loss: 1.0028 - gender_output_loss: 0.4071 - age_output_mae: 0.4813 - race_output_accuracy: 0.6493 - gender_output_accuracy: 0.8297 - val_loss: 16.2053 - val_age_output_loss: 3.4856 - val_race_output_loss: 1.4816 - val_gender_output_loss: 0.4055 - val_age_output_mae: 0.7917 - val_race_output_accuracy: 0.5542 - val_gender_output_accuracy: 0.8496\n",
            "INFO:tensorflow:Assets written to: .\\checkpoints\\assets\n",
            "Epoch 9/50\n",
            "362/362 [==============================] - 25s 68ms/step - loss: 2.7331 - age_output_loss: 0.3109 - race_output_loss: 0.9669 - gender_output_loss: 0.3904 - age_output_mae: 0.4270 - race_output_accuracy: 0.6612 - gender_output_accuracy: 0.8379 - val_loss: 16.1364 - val_age_output_loss: 3.5824 - val_race_output_loss: 1.1799 - val_gender_output_loss: 0.3690 - val_age_output_mae: 0.7854 - val_race_output_accuracy: 0.6113 - val_gender_output_accuracy: 0.8540\n",
            "INFO:tensorflow:Assets written to: .\\checkpoints\\assets\n",
            "Epoch 10/50\n",
            "362/362 [==============================] - 24s 67ms/step - loss: 2.3567 - age_output_loss: 0.2338 - race_output_loss: 0.9225 - gender_output_loss: 0.3770 - age_output_mae: 0.3693 - race_output_accuracy: 0.6746 - gender_output_accuracy: 0.8423 - val_loss: 12.6412 - val_age_output_loss: 2.7107 - val_race_output_loss: 1.1772 - val_gender_output_loss: 0.3263 - val_age_output_mae: 0.6630 - val_race_output_accuracy: 0.6014 - val_gender_output_accuracy: 0.8629\n",
            "INFO:tensorflow:Assets written to: .\\checkpoints\\assets\n",
            "Epoch 11/50\n",
            "362/362 [==============================] - 26s 72ms/step - loss: 2.1118 - age_output_loss: 0.1846 - race_output_loss: 0.8911 - gender_output_loss: 0.3660 - age_output_mae: 0.3286 - race_output_accuracy: 0.6865 - gender_output_accuracy: 0.8464 - val_loss: 6.7756 - val_age_output_loss: 1.1765 - val_race_output_loss: 1.3573 - val_gender_output_loss: 0.3377 - val_age_output_mae: 0.4310 - val_race_output_accuracy: 0.5758 - val_gender_output_accuracy: 0.8579\n",
            "INFO:tensorflow:Assets written to: .\\checkpoints\\assets\n",
            "Epoch 12/50\n",
            "362/362 [==============================] - 26s 73ms/step - loss: 1.8901 - age_output_loss: 0.1371 - race_output_loss: 0.8706 - gender_output_loss: 0.3570 - age_output_mae: 0.2837 - race_output_accuracy: 0.6940 - gender_output_accuracy: 0.8484 - val_loss: 6.5587 - val_age_output_loss: 1.1987 - val_race_output_loss: 1.1552 - val_gender_output_loss: 0.3124 - val_age_output_mae: 0.4351 - val_race_output_accuracy: 0.6161 - val_gender_output_accuracy: 0.8671\n",
            "INFO:tensorflow:Assets written to: .\\checkpoints\\assets\n",
            "Epoch 13/50\n",
            "362/362 [==============================] - 28s 78ms/step - loss: 1.7106 - age_output_loss: 0.1009 - race_output_loss: 0.8484 - gender_output_loss: 0.3445 - age_output_mae: 0.2434 - race_output_accuracy: 0.6960 - gender_output_accuracy: 0.8531 - val_loss: 5.3476 - val_age_output_loss: 0.9148 - val_race_output_loss: 1.1039 - val_gender_output_loss: 0.3249 - val_age_output_mae: 0.3819 - val_race_output_accuracy: 0.6250 - val_gender_output_accuracy: 0.8726\n",
            "INFO:tensorflow:Assets written to: .\\checkpoints\\assets\n",
            "Epoch 14/50\n",
            "362/362 [==============================] - 25s 70ms/step - loss: 1.5765 - age_output_loss: 0.0745 - race_output_loss: 0.8298 - gender_output_loss: 0.3373 - age_output_mae: 0.2111 - race_output_accuracy: 0.7083 - gender_output_accuracy: 0.8581 - val_loss: 3.7799 - val_age_output_loss: 0.6030 - val_race_output_loss: 0.8892 - val_gender_output_loss: 0.3405 - val_age_output_mae: 0.3006 - val_race_output_accuracy: 0.6881 - val_gender_output_accuracy: 0.8671\n",
            "INFO:tensorflow:Assets written to: .\\checkpoints\\assets\n",
            "Epoch 15/50\n",
            "362/362 [==============================] - 25s 68ms/step - loss: 1.4816 - age_output_loss: 0.0567 - race_output_loss: 0.8145 - gender_output_loss: 0.3328 - age_output_mae: 0.1839 - race_output_accuracy: 0.7122 - gender_output_accuracy: 0.8599 - val_loss: 3.8582 - val_age_output_loss: 0.6082 - val_race_output_loss: 0.9288 - val_gender_output_loss: 0.3214 - val_age_output_mae: 0.2931 - val_race_output_accuracy: 0.6698 - val_gender_output_accuracy: 0.8694\n",
            "INFO:tensorflow:Assets written to: .\\checkpoints\\assets\n",
            "Epoch 16/50\n",
            "362/362 [==============================] - 25s 69ms/step - loss: 1.3986 - age_output_loss: 0.0425 - race_output_loss: 0.7976 - gender_output_loss: 0.3223 - age_output_mae: 0.1605 - race_output_accuracy: 0.7163 - gender_output_accuracy: 0.8634 - val_loss: 3.8454 - val_age_output_loss: 0.6020 - val_race_output_loss: 0.9377 - val_gender_output_loss: 0.3081 - val_age_output_mae: 0.2854 - val_race_output_accuracy: 0.6613 - val_gender_output_accuracy: 0.8752\n",
            "INFO:tensorflow:Assets written to: .\\checkpoints\\assets\n",
            "Epoch 17/50\n",
            "362/362 [==============================] - 25s 70ms/step - loss: 1.3448 - age_output_loss: 0.0338 - race_output_loss: 0.7849 - gender_output_loss: 0.3222 - age_output_mae: 0.1425 - race_output_accuracy: 0.7203 - gender_output_accuracy: 0.8607 - val_loss: 3.4772 - val_age_output_loss: 0.5094 - val_race_output_loss: 0.9396 - val_gender_output_loss: 0.2999 - val_age_output_mae: 0.2596 - val_race_output_accuracy: 0.6573 - val_gender_output_accuracy: 0.8802\n",
            "INFO:tensorflow:Assets written to: .\\checkpoints\\assets\n",
            "Epoch 18/50\n",
            "362/362 [==============================] - 25s 70ms/step - loss: 1.2841 - age_output_loss: 0.0281 - race_output_loss: 0.7608 - gender_output_loss: 0.3063 - age_output_mae: 0.1304 - race_output_accuracy: 0.7264 - gender_output_accuracy: 0.8714 - val_loss: 3.2371 - val_age_output_loss: 0.4511 - val_race_output_loss: 0.9349 - val_gender_output_loss: 0.3027 - val_age_output_mae: 0.2471 - val_race_output_accuracy: 0.6609 - val_gender_output_accuracy: 0.8790\n",
            "INFO:tensorflow:Assets written to: .\\checkpoints\\assets\n",
            "Epoch 19/50\n",
            "362/362 [==============================] - 26s 71ms/step - loss: 1.2660 - age_output_loss: 0.0248 - race_output_loss: 0.7574 - gender_output_loss: 0.3057 - age_output_mae: 0.1213 - race_output_accuracy: 0.7303 - gender_output_accuracy: 0.8672 - val_loss: 3.3460 - val_age_output_loss: 0.4866 - val_race_output_loss: 0.9127 - val_gender_output_loss: 0.3049 - val_age_output_mae: 0.2657 - val_race_output_accuracy: 0.6702 - val_gender_output_accuracy: 0.8804\n",
            "INFO:tensorflow:Assets written to: .\\checkpoints\\assets\n",
            "Epoch 20/50\n",
            "362/362 [==============================] - 26s 71ms/step - loss: 1.2189 - age_output_loss: 0.0222 - race_output_loss: 0.7330 - gender_output_loss: 0.3048 - age_output_mae: 0.1142 - race_output_accuracy: 0.7385 - gender_output_accuracy: 0.8693 - val_loss: 3.6085 - val_age_output_loss: 0.5175 - val_race_output_loss: 1.0071 - val_gender_output_loss: 0.2799 - val_age_output_mae: 0.2748 - val_race_output_accuracy: 0.6387 - val_gender_output_accuracy: 0.8851\n",
            "INFO:tensorflow:Assets written to: .\\checkpoints\\assets\n",
            "Epoch 21/50\n",
            "362/362 [==============================] - 24s 67ms/step - loss: 1.1972 - age_output_loss: 0.0208 - race_output_loss: 0.7224 - gender_output_loss: 0.3017 - age_output_mae: 0.1110 - race_output_accuracy: 0.7421 - gender_output_accuracy: 0.8709 - val_loss: 3.0587 - val_age_output_loss: 0.4749 - val_race_output_loss: 0.7548 - val_gender_output_loss: 0.2690 - val_age_output_mae: 0.2578 - val_race_output_accuracy: 0.7244 - val_gender_output_accuracy: 0.8877\n",
            "INFO:tensorflow:Assets written to: .\\checkpoints\\assets\n",
            "Epoch 22/50\n",
            "362/362 [==============================] - 27s 74ms/step - loss: 1.1877 - age_output_loss: 0.0194 - race_output_loss: 0.7209 - gender_output_loss: 0.2879 - age_output_mae: 0.1071 - race_output_accuracy: 0.7446 - gender_output_accuracy: 0.8798 - val_loss: 3.0038 - val_age_output_loss: 0.4376 - val_race_output_loss: 0.8173 - val_gender_output_loss: 0.2761 - val_age_output_mae: 0.2363 - val_race_output_accuracy: 0.7018 - val_gender_output_accuracy: 0.8875\n",
            "INFO:tensorflow:Assets written to: .\\checkpoints\\assets\n",
            "Epoch 23/50\n",
            "362/362 [==============================] - 30s 83ms/step - loss: 1.1669 - age_output_loss: 0.0189 - race_output_loss: 0.7082 - gender_output_loss: 0.2894 - age_output_mae: 0.1055 - race_output_accuracy: 0.7467 - gender_output_accuracy: 0.8796 - val_loss: 2.9252 - val_age_output_loss: 0.3911 - val_race_output_loss: 0.8889 - val_gender_output_loss: 0.2774 - val_age_output_mae: 0.2258 - val_race_output_accuracy: 0.6964 - val_gender_output_accuracy: 0.8879\n",
            "INFO:tensorflow:Assets written to: .\\checkpoints\\assets\n",
            "Epoch 24/50\n",
            "362/362 [==============================] - 31s 87ms/step - loss: 1.1503 - age_output_loss: 0.0180 - race_output_loss: 0.6997 - gender_output_loss: 0.2864 - age_output_mae: 0.1029 - race_output_accuracy: 0.7474 - gender_output_accuracy: 0.8796 - val_loss: 2.9940 - val_age_output_loss: 0.4259 - val_race_output_loss: 0.8420 - val_gender_output_loss: 0.2718 - val_age_output_mae: 0.2173 - val_race_output_accuracy: 0.7054 - val_gender_output_accuracy: 0.8885\n",
            "INFO:tensorflow:Assets written to: .\\checkpoints\\assets\n",
            "Epoch 25/50\n",
            "362/362 [==============================] - 27s 74ms/step - loss: 1.1315 - age_output_loss: 0.0177 - race_output_loss: 0.6883 - gender_output_loss: 0.2833 - age_output_mae: 0.1018 - race_output_accuracy: 0.7560 - gender_output_accuracy: 0.8816 - val_loss: 2.7555 - val_age_output_loss: 0.3752 - val_race_output_loss: 0.8191 - val_gender_output_loss: 0.2619 - val_age_output_mae: 0.2076 - val_race_output_accuracy: 0.7044 - val_gender_output_accuracy: 0.8935\n",
            "INFO:tensorflow:Assets written to: .\\checkpoints\\assets\n",
            "Epoch 26/50\n",
            "362/362 [==============================] - 25s 69ms/step - loss: 1.1179 - age_output_loss: 0.0169 - race_output_loss: 0.6818 - gender_output_loss: 0.2772 - age_output_mae: 0.0993 - race_output_accuracy: 0.7603 - gender_output_accuracy: 0.8832 - val_loss: 3.0239 - val_age_output_loss: 0.4301 - val_race_output_loss: 0.8513 - val_gender_output_loss: 0.2677 - val_age_output_mae: 0.2173 - val_race_output_accuracy: 0.6970 - val_gender_output_accuracy: 0.8919\n",
            "INFO:tensorflow:Assets written to: .\\checkpoints\\assets\n",
            "Epoch 27/50\n",
            "362/362 [==============================] - 25s 69ms/step - loss: 1.1103 - age_output_loss: 0.0164 - race_output_loss: 0.6782 - gender_output_loss: 0.2720 - age_output_mae: 0.0981 - race_output_accuracy: 0.7592 - gender_output_accuracy: 0.8846 - val_loss: 2.4109 - val_age_output_loss: 0.3261 - val_race_output_loss: 0.7194 - val_gender_output_loss: 0.2724 - val_age_output_mae: 0.1971 - val_race_output_accuracy: 0.7381 - val_gender_output_accuracy: 0.8911\n",
            "INFO:tensorflow:Assets written to: .\\checkpoints\\assets\n",
            "Epoch 28/50\n",
            "362/362 [==============================] - 26s 71ms/step - loss: 1.0806 - age_output_loss: 0.0158 - race_output_loss: 0.6603 - gender_output_loss: 0.2707 - age_output_mae: 0.0960 - race_output_accuracy: 0.7686 - gender_output_accuracy: 0.8854 - val_loss: 2.6304 - val_age_output_loss: 0.3614 - val_race_output_loss: 0.7719 - val_gender_output_loss: 0.2683 - val_age_output_mae: 0.2092 - val_race_output_accuracy: 0.7218 - val_gender_output_accuracy: 0.8909\n",
            "INFO:tensorflow:Assets written to: .\\checkpoints\\assets\n",
            "Epoch 29/50\n",
            "362/362 [==============================] - 25s 69ms/step - loss: 1.0694 - age_output_loss: 0.0154 - race_output_loss: 0.6543 - gender_output_loss: 0.2631 - age_output_mae: 0.0944 - race_output_accuracy: 0.7664 - gender_output_accuracy: 0.8884 - val_loss: 2.6773 - val_age_output_loss: 0.3593 - val_race_output_loss: 0.8092 - val_gender_output_loss: 0.2642 - val_age_output_mae: 0.1964 - val_race_output_accuracy: 0.7119 - val_gender_output_accuracy: 0.8919\n",
            "INFO:tensorflow:Assets written to: .\\checkpoints\\assets\n",
            "Epoch 30/50\n",
            "362/362 [==============================] - 26s 72ms/step - loss: 1.0528 - age_output_loss: 0.0152 - race_output_loss: 0.6441 - gender_output_loss: 0.2589 - age_output_mae: 0.0939 - race_output_accuracy: 0.7710 - gender_output_accuracy: 0.8924 - val_loss: 2.4875 - val_age_output_loss: 0.3054 - val_race_output_loss: 0.8267 - val_gender_output_loss: 0.2589 - val_age_output_mae: 0.1815 - val_race_output_accuracy: 0.7093 - val_gender_output_accuracy: 0.8986\n",
            "INFO:tensorflow:Assets written to: .\\checkpoints\\assets\n",
            "Epoch 31/50\n",
            "362/362 [==============================] - 26s 73ms/step - loss: 1.0365 - age_output_loss: 0.0146 - race_output_loss: 0.6348 - gender_output_loss: 0.2589 - age_output_mae: 0.0922 - race_output_accuracy: 0.7728 - gender_output_accuracy: 0.8917 - val_loss: 2.1454 - val_age_output_loss: 0.2412 - val_race_output_loss: 0.7697 - val_gender_output_loss: 0.2596 - val_age_output_mae: 0.1521 - val_race_output_accuracy: 0.7290 - val_gender_output_accuracy: 0.8972\n",
            "INFO:tensorflow:Assets written to: .\\checkpoints\\assets\n",
            "Epoch 32/50\n",
            "362/362 [==============================] - 27s 75ms/step - loss: 1.0281 - age_output_loss: 0.0143 - race_output_loss: 0.6300 - gender_output_loss: 0.2580 - age_output_mae: 0.0914 - race_output_accuracy: 0.7737 - gender_output_accuracy: 0.8906 - val_loss: 2.4425 - val_age_output_loss: 0.2918 - val_race_output_loss: 0.8326 - val_gender_output_loss: 0.2649 - val_age_output_mae: 0.1669 - val_race_output_accuracy: 0.7058 - val_gender_output_accuracy: 0.8940\n",
            "INFO:tensorflow:Assets written to: .\\checkpoints\\assets\n",
            "Epoch 33/50\n",
            "362/362 [==============================] - 28s 78ms/step - loss: 1.0075 - age_output_loss: 0.0139 - race_output_loss: 0.6178 - gender_output_loss: 0.2508 - age_output_mae: 0.0902 - race_output_accuracy: 0.7793 - gender_output_accuracy: 0.8948 - val_loss: 2.0191 - val_age_output_loss: 0.2078 - val_race_output_loss: 0.7748 - val_gender_output_loss: 0.2565 - val_age_output_mae: 0.1392 - val_race_output_accuracy: 0.7292 - val_gender_output_accuracy: 0.8974\n",
            "INFO:tensorflow:Assets written to: .\\checkpoints\\assets\n",
            "Epoch 34/50\n",
            "362/362 [==============================] - 26s 73ms/step - loss: 1.0143 - age_output_loss: 0.0136 - race_output_loss: 0.6235 - gender_output_loss: 0.2475 - age_output_mae: 0.0892 - race_output_accuracy: 0.7749 - gender_output_accuracy: 0.8945 - val_loss: 2.2005 - val_age_output_loss: 0.2614 - val_race_output_loss: 0.7530 - val_gender_output_loss: 0.2540 - val_age_output_mae: 0.1558 - val_race_output_accuracy: 0.7373 - val_gender_output_accuracy: 0.9004\n",
            "INFO:tensorflow:Assets written to: .\\checkpoints\\assets\n",
            "Epoch 35/50\n",
            "362/362 [==============================] - 24s 68ms/step - loss: 0.9942 - age_output_loss: 0.0131 - race_output_loss: 0.6118 - gender_output_loss: 0.2409 - age_output_mae: 0.0871 - race_output_accuracy: 0.7816 - gender_output_accuracy: 0.9008 - val_loss: 1.8491 - val_age_output_loss: 0.1641 - val_race_output_loss: 0.7773 - val_gender_output_loss: 0.2669 - val_age_output_mae: 0.1271 - val_race_output_accuracy: 0.7286 - val_gender_output_accuracy: 0.8935\n",
            "INFO:tensorflow:Assets written to: .\\checkpoints\\assets\n",
            "Epoch 36/50\n",
            "362/362 [==============================] - 25s 68ms/step - loss: 0.9712 - age_output_loss: 0.0130 - race_output_loss: 0.5968 - gender_output_loss: 0.2395 - age_output_mae: 0.0867 - race_output_accuracy: 0.7889 - gender_output_accuracy: 0.8992 - val_loss: 1.8188 - val_age_output_loss: 0.1500 - val_race_output_loss: 0.7957 - val_gender_output_loss: 0.2540 - val_age_output_mae: 0.1278 - val_race_output_accuracy: 0.7272 - val_gender_output_accuracy: 0.8984\n",
            "INFO:tensorflow:Assets written to: .\\checkpoints\\assets\n",
            "Epoch 37/50\n",
            "362/362 [==============================] - 25s 68ms/step - loss: 0.9623 - age_output_loss: 0.0128 - race_output_loss: 0.5913 - gender_output_loss: 0.2396 - age_output_mae: 0.0863 - race_output_accuracy: 0.7900 - gender_output_accuracy: 0.9007 - val_loss: 1.6290 - val_age_output_loss: 0.1001 - val_race_output_loss: 0.8024 - val_gender_output_loss: 0.2488 - val_age_output_mae: 0.1131 - val_race_output_accuracy: 0.7361 - val_gender_output_accuracy: 0.8980\n",
            "INFO:tensorflow:Assets written to: .\\checkpoints\\assets\n",
            "Epoch 38/50\n",
            "362/362 [==============================] - 24s 67ms/step - loss: 0.9534 - age_output_loss: 0.0123 - race_output_loss: 0.5874 - gender_output_loss: 0.2314 - age_output_mae: 0.0848 - race_output_accuracy: 0.7896 - gender_output_accuracy: 0.9066 - val_loss: 1.3444 - val_age_output_loss: 0.0608 - val_race_output_loss: 0.7168 - val_gender_output_loss: 0.2613 - val_age_output_mae: 0.1004 - val_race_output_accuracy: 0.7480 - val_gender_output_accuracy: 0.8952\n",
            "INFO:tensorflow:Assets written to: .\\checkpoints\\assets\n",
            "Epoch 39/50\n",
            "362/362 [==============================] - 25s 68ms/step - loss: 0.9509 - age_output_loss: 0.0122 - race_output_loss: 0.5862 - gender_output_loss: 0.2294 - age_output_mae: 0.0838 - race_output_accuracy: 0.7901 - gender_output_accuracy: 0.9067 - val_loss: 1.2158 - val_age_output_loss: 0.0285 - val_race_output_loss: 0.7169 - val_gender_output_loss: 0.2639 - val_age_output_mae: 0.0914 - val_race_output_accuracy: 0.7508 - val_gender_output_accuracy: 0.8933\n",
            "INFO:tensorflow:Assets written to: .\\checkpoints\\assets\n",
            "Epoch 40/50\n",
            "362/362 [==============================] - 25s 68ms/step - loss: 0.9390 - age_output_loss: 0.0120 - race_output_loss: 0.5787 - gender_output_loss: 0.2291 - age_output_mae: 0.0833 - race_output_accuracy: 0.7926 - gender_output_accuracy: 0.9081 - val_loss: 1.1630 - val_age_output_loss: 0.0318 - val_race_output_loss: 0.6728 - val_gender_output_loss: 0.2657 - val_age_output_mae: 0.0844 - val_race_output_accuracy: 0.7629 - val_gender_output_accuracy: 0.8933\n",
            "INFO:tensorflow:Assets written to: .\\checkpoints\\assets\n",
            "Epoch 41/50\n",
            "362/362 [==============================] - 24s 68ms/step - loss: 0.9373 - age_output_loss: 0.0116 - race_output_loss: 0.5789 - gender_output_loss: 0.2263 - age_output_mae: 0.0818 - race_output_accuracy: 0.7946 - gender_output_accuracy: 0.9062 - val_loss: 1.2501 - val_age_output_loss: 0.0340 - val_race_output_loss: 0.7269 - val_gender_output_loss: 0.2374 - val_age_output_mae: 0.0939 - val_race_output_accuracy: 0.7500 - val_gender_output_accuracy: 0.9020\n",
            "INFO:tensorflow:Assets written to: .\\checkpoints\\assets\n",
            "Epoch 42/50\n",
            "362/362 [==============================] - 24s 68ms/step - loss: 0.9228 - age_output_loss: 0.0114 - race_output_loss: 0.5697 - gender_output_loss: 0.2256 - age_output_mae: 0.0812 - race_output_accuracy: 0.7997 - gender_output_accuracy: 0.9069 - val_loss: 1.1237 - val_age_output_loss: 0.0178 - val_race_output_loss: 0.6849 - val_gender_output_loss: 0.2503 - val_age_output_mae: 0.0835 - val_race_output_accuracy: 0.7623 - val_gender_output_accuracy: 0.8996\n",
            "INFO:tensorflow:Assets written to: .\\checkpoints\\assets\n",
            "Epoch 43/50\n",
            "362/362 [==============================] - 26s 71ms/step - loss: 0.9146 - age_output_loss: 0.0115 - race_output_loss: 0.5643 - gender_output_loss: 0.2203 - age_output_mae: 0.0815 - race_output_accuracy: 0.7983 - gender_output_accuracy: 0.9107 - val_loss: 1.1577 - val_age_output_loss: 0.0136 - val_race_output_loss: 0.7183 - val_gender_output_loss: 0.2590 - val_age_output_mae: 0.0904 - val_race_output_accuracy: 0.7500 - val_gender_output_accuracy: 0.8976\n",
            "INFO:tensorflow:Assets written to: .\\checkpoints\\assets\n",
            "Epoch 44/50\n",
            "362/362 [==============================] - 26s 71ms/step - loss: 0.9079 - age_output_loss: 0.0113 - race_output_loss: 0.5604 - gender_output_loss: 0.2189 - age_output_mae: 0.0812 - race_output_accuracy: 0.8011 - gender_output_accuracy: 0.9100 - val_loss: 1.0721 - val_age_output_loss: 0.0141 - val_race_output_loss: 0.6601 - val_gender_output_loss: 0.2578 - val_age_output_mae: 0.0853 - val_race_output_accuracy: 0.7720 - val_gender_output_accuracy: 0.8974\n",
            "INFO:tensorflow:Assets written to: .\\checkpoints\\assets\n",
            "Epoch 45/50\n",
            "362/362 [==============================] - 26s 71ms/step - loss: 0.8992 - age_output_loss: 0.0110 - race_output_loss: 0.5557 - gender_output_loss: 0.2170 - age_output_mae: 0.0797 - race_output_accuracy: 0.8028 - gender_output_accuracy: 0.9129 - val_loss: 1.1455 - val_age_output_loss: 0.0105 - val_race_output_loss: 0.7177 - val_gender_output_loss: 0.2705 - val_age_output_mae: 0.0757 - val_race_output_accuracy: 0.7528 - val_gender_output_accuracy: 0.8935\n",
            "INFO:tensorflow:Assets written to: .\\checkpoints\\assets\n",
            "Epoch 46/50\n",
            "362/362 [==============================] - 30s 84ms/step - loss: 0.8926 - age_output_loss: 0.0108 - race_output_loss: 0.5519 - gender_output_loss: 0.2152 - age_output_mae: 0.0790 - race_output_accuracy: 0.8039 - gender_output_accuracy: 0.9128 - val_loss: 1.1678 - val_age_output_loss: 0.0094 - val_race_output_loss: 0.7366 - val_gender_output_loss: 0.2539 - val_age_output_mae: 0.0734 - val_race_output_accuracy: 0.7440 - val_gender_output_accuracy: 0.8984\n",
            "INFO:tensorflow:Assets written to: .\\checkpoints\\assets\n",
            "Epoch 47/50\n",
            "362/362 [==============================] - 28s 78ms/step - loss: 0.8803 - age_output_loss: 0.0105 - race_output_loss: 0.5448 - gender_output_loss: 0.2112 - age_output_mae: 0.0778 - race_output_accuracy: 0.8063 - gender_output_accuracy: 0.9167 - val_loss: 1.2060 - val_age_output_loss: 0.0101 - val_race_output_loss: 0.7588 - val_gender_output_loss: 0.2745 - val_age_output_mae: 0.0743 - val_race_output_accuracy: 0.7385 - val_gender_output_accuracy: 0.8944\n",
            "INFO:tensorflow:Assets written to: .\\checkpoints\\assets\n",
            "Epoch 48/50\n",
            "362/362 [==============================] - 30s 82ms/step - loss: 0.8617 - age_output_loss: 0.0105 - race_output_loss: 0.5325 - gender_output_loss: 0.2099 - age_output_mae: 0.0779 - race_output_accuracy: 0.8078 - gender_output_accuracy: 0.9145 - val_loss: 1.0584 - val_age_output_loss: 0.0112 - val_race_output_loss: 0.6583 - val_gender_output_loss: 0.2603 - val_age_output_mae: 0.0841 - val_race_output_accuracy: 0.7734 - val_gender_output_accuracy: 0.8972\n",
            "INFO:tensorflow:Assets written to: .\\checkpoints\\assets\n",
            "Epoch 49/50\n",
            "362/362 [==============================] - 29s 81ms/step - loss: 0.8655 - age_output_loss: 0.0104 - race_output_loss: 0.5357 - gender_output_loss: 0.2026 - age_output_mae: 0.0775 - race_output_accuracy: 0.8082 - gender_output_accuracy: 0.9184 - val_loss: 1.2069 - val_age_output_loss: 0.0091 - val_race_output_loss: 0.7623 - val_gender_output_loss: 0.2706 - val_age_output_mae: 0.0734 - val_race_output_accuracy: 0.7395 - val_gender_output_accuracy: 0.8976\n",
            "INFO:tensorflow:Assets written to: .\\checkpoints\\assets\n",
            "Epoch 50/50\n",
            "362/362 [==============================] - 29s 79ms/step - loss: 0.8617 - age_output_loss: 0.0102 - race_output_loss: 0.5338 - gender_output_loss: 0.2013 - age_output_mae: 0.0770 - race_output_accuracy: 0.8074 - gender_output_accuracy: 0.9188 - val_loss: 1.0771 - val_age_output_loss: 0.0086 - val_race_output_loss: 0.6754 - val_gender_output_loss: 0.2954 - val_age_output_mae: 0.0688 - val_race_output_accuracy: 0.7742 - val_gender_output_accuracy: 0.8871\n",
            "INFO:tensorflow:Assets written to: .\\checkpoints\\assets\n"
          ]
        }
      ],
      "source": [
        "batch_size = 32\n",
        "\n",
        "train_data = generator.generate_images(train_idx, is_training = True, batch_size = batch_size)\n",
        "test_data = generator.generate_images(valid_idx, is_training = True, batch_size = batch_size)\n",
        "\n",
        "# we use fit_generator here because data augmentation is performed here\n",
        "history = model.fit_generator( \n",
        "    train_data,\n",
        "    steps_per_epoch=len(train_idx)//batch_size,\n",
        "    epochs=num_epochs,\n",
        "    validation_data=test_data,\n",
        "    validation_steps=len(valid_idx)//batch_size,\n",
        "    verbose=1,\n",
        "    callbacks=[checkpoint_callback , tensorboard_callback , early_stopping_callback]\n",
        ")"
      ]
    },
    {
      "cell_type": "markdown",
      "metadata": {
        "id": "_WVYKruLozh4"
      },
      "source": [
        "## Evaluate the Model."
      ]
    },
    {
      "cell_type": "code",
      "execution_count": 10,
      "metadata": {},
      "outputs": [
        {
          "data": {
            "application/vnd.plotly.v1+json": {
              "config": {
                "plotlyServerURL": "https://plot.ly"
              },
              "data": [
                {
                  "name": "Train",
                  "type": "scattergl",
                  "y": [
                    14.773873329162598,
                    9.924612998962402,
                    7.6106367111206055,
                    6.208184719085693,
                    5.114262580871582,
                    4.283803939819336,
                    3.6148104667663574,
                    3.1207969188690186,
                    2.7330760955810547,
                    2.356746196746826,
                    2.111755132675171,
                    1.8900727033615112,
                    1.7105793952941895,
                    1.5764554738998413,
                    1.4816138744354248,
                    1.3985874652862549,
                    1.3448346853256226,
                    1.2841160297393799,
                    1.265975832939148,
                    1.218914270401001,
                    1.1971884965896606,
                    1.187712550163269,
                    1.1669261455535889,
                    1.1502870321273804,
                    1.1314669847488403,
                    1.1178838014602661,
                    1.1102676391601562,
                    1.080568552017212,
                    1.069387435913086,
                    1.052763819694519,
                    1.0364946126937866,
                    1.0281108617782593,
                    1.0074653625488281,
                    1.0142886638641357,
                    0.9941740036010742,
                    0.9711855053901672,
                    0.962287962436676,
                    0.9534450769424438,
                    0.9508539438247681,
                    0.938971757888794,
                    0.9373273253440857,
                    0.9227659106254578,
                    0.9146049618721008,
                    0.907917857170105,
                    0.8991654515266418,
                    0.8926261067390442,
                    0.8802669048309326,
                    0.86167311668396,
                    0.865455687046051,
                    0.8616882562637329
                  ]
                },
                {
                  "name": "Valid",
                  "type": "scattergl",
                  "y": [
                    8.34416389465332,
                    8.895697593688965,
                    19.943273544311523,
                    20.83513641357422,
                    28.088186264038086,
                    20.99987030029297,
                    23.063461303710938,
                    16.205299377441406,
                    16.136442184448242,
                    12.641244888305664,
                    6.775588512420654,
                    6.558696269989014,
                    5.34757137298584,
                    3.7799265384674072,
                    3.8581717014312744,
                    3.8453521728515625,
                    3.4771673679351807,
                    3.2371389865875244,
                    3.3459603786468506,
                    3.6085150241851807,
                    3.0587332248687744,
                    3.0038256645202637,
                    2.925241708755493,
                    2.9940009117126465,
                    2.755462169647217,
                    3.023928642272949,
                    2.4109063148498535,
                    2.630364179611206,
                    2.6772964000701904,
                    2.4874963760375977,
                    2.14536190032959,
                    2.4425485134124756,
                    2.019139528274536,
                    2.200484037399292,
                    1.8491467237472534,
                    1.8188297748565674,
                    1.6290251016616821,
                    1.34443998336792,
                    1.2158256769180298,
                    1.1630280017852783,
                    1.2501308917999268,
                    1.1236917972564697,
                    1.1577377319335938,
                    1.0721280574798584,
                    1.1454674005508423,
                    1.1677606105804443,
                    1.2059611082077026,
                    1.0583617687225342,
                    1.206865906715393,
                    1.0771273374557495
                  ]
                }
              ],
              "layout": {
                "height": 500,
                "template": {
                  "data": {
                    "bar": [
                      {
                        "error_x": {
                          "color": "#2a3f5f"
                        },
                        "error_y": {
                          "color": "#2a3f5f"
                        },
                        "marker": {
                          "line": {
                            "color": "#E5ECF6",
                            "width": 0.5
                          },
                          "pattern": {
                            "fillmode": "overlay",
                            "size": 10,
                            "solidity": 0.2
                          }
                        },
                        "type": "bar"
                      }
                    ],
                    "barpolar": [
                      {
                        "marker": {
                          "line": {
                            "color": "#E5ECF6",
                            "width": 0.5
                          },
                          "pattern": {
                            "fillmode": "overlay",
                            "size": 10,
                            "solidity": 0.2
                          }
                        },
                        "type": "barpolar"
                      }
                    ],
                    "carpet": [
                      {
                        "aaxis": {
                          "endlinecolor": "#2a3f5f",
                          "gridcolor": "white",
                          "linecolor": "white",
                          "minorgridcolor": "white",
                          "startlinecolor": "#2a3f5f"
                        },
                        "baxis": {
                          "endlinecolor": "#2a3f5f",
                          "gridcolor": "white",
                          "linecolor": "white",
                          "minorgridcolor": "white",
                          "startlinecolor": "#2a3f5f"
                        },
                        "type": "carpet"
                      }
                    ],
                    "choropleth": [
                      {
                        "colorbar": {
                          "outlinewidth": 0,
                          "ticks": ""
                        },
                        "type": "choropleth"
                      }
                    ],
                    "contour": [
                      {
                        "colorbar": {
                          "outlinewidth": 0,
                          "ticks": ""
                        },
                        "colorscale": [
                          [
                            0,
                            "#0d0887"
                          ],
                          [
                            0.1111111111111111,
                            "#46039f"
                          ],
                          [
                            0.2222222222222222,
                            "#7201a8"
                          ],
                          [
                            0.3333333333333333,
                            "#9c179e"
                          ],
                          [
                            0.4444444444444444,
                            "#bd3786"
                          ],
                          [
                            0.5555555555555556,
                            "#d8576b"
                          ],
                          [
                            0.6666666666666666,
                            "#ed7953"
                          ],
                          [
                            0.7777777777777778,
                            "#fb9f3a"
                          ],
                          [
                            0.8888888888888888,
                            "#fdca26"
                          ],
                          [
                            1,
                            "#f0f921"
                          ]
                        ],
                        "type": "contour"
                      }
                    ],
                    "contourcarpet": [
                      {
                        "colorbar": {
                          "outlinewidth": 0,
                          "ticks": ""
                        },
                        "type": "contourcarpet"
                      }
                    ],
                    "heatmap": [
                      {
                        "colorbar": {
                          "outlinewidth": 0,
                          "ticks": ""
                        },
                        "colorscale": [
                          [
                            0,
                            "#0d0887"
                          ],
                          [
                            0.1111111111111111,
                            "#46039f"
                          ],
                          [
                            0.2222222222222222,
                            "#7201a8"
                          ],
                          [
                            0.3333333333333333,
                            "#9c179e"
                          ],
                          [
                            0.4444444444444444,
                            "#bd3786"
                          ],
                          [
                            0.5555555555555556,
                            "#d8576b"
                          ],
                          [
                            0.6666666666666666,
                            "#ed7953"
                          ],
                          [
                            0.7777777777777778,
                            "#fb9f3a"
                          ],
                          [
                            0.8888888888888888,
                            "#fdca26"
                          ],
                          [
                            1,
                            "#f0f921"
                          ]
                        ],
                        "type": "heatmap"
                      }
                    ],
                    "heatmapgl": [
                      {
                        "colorbar": {
                          "outlinewidth": 0,
                          "ticks": ""
                        },
                        "colorscale": [
                          [
                            0,
                            "#0d0887"
                          ],
                          [
                            0.1111111111111111,
                            "#46039f"
                          ],
                          [
                            0.2222222222222222,
                            "#7201a8"
                          ],
                          [
                            0.3333333333333333,
                            "#9c179e"
                          ],
                          [
                            0.4444444444444444,
                            "#bd3786"
                          ],
                          [
                            0.5555555555555556,
                            "#d8576b"
                          ],
                          [
                            0.6666666666666666,
                            "#ed7953"
                          ],
                          [
                            0.7777777777777778,
                            "#fb9f3a"
                          ],
                          [
                            0.8888888888888888,
                            "#fdca26"
                          ],
                          [
                            1,
                            "#f0f921"
                          ]
                        ],
                        "type": "heatmapgl"
                      }
                    ],
                    "histogram": [
                      {
                        "marker": {
                          "pattern": {
                            "fillmode": "overlay",
                            "size": 10,
                            "solidity": 0.2
                          }
                        },
                        "type": "histogram"
                      }
                    ],
                    "histogram2d": [
                      {
                        "colorbar": {
                          "outlinewidth": 0,
                          "ticks": ""
                        },
                        "colorscale": [
                          [
                            0,
                            "#0d0887"
                          ],
                          [
                            0.1111111111111111,
                            "#46039f"
                          ],
                          [
                            0.2222222222222222,
                            "#7201a8"
                          ],
                          [
                            0.3333333333333333,
                            "#9c179e"
                          ],
                          [
                            0.4444444444444444,
                            "#bd3786"
                          ],
                          [
                            0.5555555555555556,
                            "#d8576b"
                          ],
                          [
                            0.6666666666666666,
                            "#ed7953"
                          ],
                          [
                            0.7777777777777778,
                            "#fb9f3a"
                          ],
                          [
                            0.8888888888888888,
                            "#fdca26"
                          ],
                          [
                            1,
                            "#f0f921"
                          ]
                        ],
                        "type": "histogram2d"
                      }
                    ],
                    "histogram2dcontour": [
                      {
                        "colorbar": {
                          "outlinewidth": 0,
                          "ticks": ""
                        },
                        "colorscale": [
                          [
                            0,
                            "#0d0887"
                          ],
                          [
                            0.1111111111111111,
                            "#46039f"
                          ],
                          [
                            0.2222222222222222,
                            "#7201a8"
                          ],
                          [
                            0.3333333333333333,
                            "#9c179e"
                          ],
                          [
                            0.4444444444444444,
                            "#bd3786"
                          ],
                          [
                            0.5555555555555556,
                            "#d8576b"
                          ],
                          [
                            0.6666666666666666,
                            "#ed7953"
                          ],
                          [
                            0.7777777777777778,
                            "#fb9f3a"
                          ],
                          [
                            0.8888888888888888,
                            "#fdca26"
                          ],
                          [
                            1,
                            "#f0f921"
                          ]
                        ],
                        "type": "histogram2dcontour"
                      }
                    ],
                    "mesh3d": [
                      {
                        "colorbar": {
                          "outlinewidth": 0,
                          "ticks": ""
                        },
                        "type": "mesh3d"
                      }
                    ],
                    "parcoords": [
                      {
                        "line": {
                          "colorbar": {
                            "outlinewidth": 0,
                            "ticks": ""
                          }
                        },
                        "type": "parcoords"
                      }
                    ],
                    "pie": [
                      {
                        "automargin": true,
                        "type": "pie"
                      }
                    ],
                    "scatter": [
                      {
                        "marker": {
                          "colorbar": {
                            "outlinewidth": 0,
                            "ticks": ""
                          }
                        },
                        "type": "scatter"
                      }
                    ],
                    "scatter3d": [
                      {
                        "line": {
                          "colorbar": {
                            "outlinewidth": 0,
                            "ticks": ""
                          }
                        },
                        "marker": {
                          "colorbar": {
                            "outlinewidth": 0,
                            "ticks": ""
                          }
                        },
                        "type": "scatter3d"
                      }
                    ],
                    "scattercarpet": [
                      {
                        "marker": {
                          "colorbar": {
                            "outlinewidth": 0,
                            "ticks": ""
                          }
                        },
                        "type": "scattercarpet"
                      }
                    ],
                    "scattergeo": [
                      {
                        "marker": {
                          "colorbar": {
                            "outlinewidth": 0,
                            "ticks": ""
                          }
                        },
                        "type": "scattergeo"
                      }
                    ],
                    "scattergl": [
                      {
                        "marker": {
                          "colorbar": {
                            "outlinewidth": 0,
                            "ticks": ""
                          }
                        },
                        "type": "scattergl"
                      }
                    ],
                    "scattermapbox": [
                      {
                        "marker": {
                          "colorbar": {
                            "outlinewidth": 0,
                            "ticks": ""
                          }
                        },
                        "type": "scattermapbox"
                      }
                    ],
                    "scatterpolar": [
                      {
                        "marker": {
                          "colorbar": {
                            "outlinewidth": 0,
                            "ticks": ""
                          }
                        },
                        "type": "scatterpolar"
                      }
                    ],
                    "scatterpolargl": [
                      {
                        "marker": {
                          "colorbar": {
                            "outlinewidth": 0,
                            "ticks": ""
                          }
                        },
                        "type": "scatterpolargl"
                      }
                    ],
                    "scatterternary": [
                      {
                        "marker": {
                          "colorbar": {
                            "outlinewidth": 0,
                            "ticks": ""
                          }
                        },
                        "type": "scatterternary"
                      }
                    ],
                    "surface": [
                      {
                        "colorbar": {
                          "outlinewidth": 0,
                          "ticks": ""
                        },
                        "colorscale": [
                          [
                            0,
                            "#0d0887"
                          ],
                          [
                            0.1111111111111111,
                            "#46039f"
                          ],
                          [
                            0.2222222222222222,
                            "#7201a8"
                          ],
                          [
                            0.3333333333333333,
                            "#9c179e"
                          ],
                          [
                            0.4444444444444444,
                            "#bd3786"
                          ],
                          [
                            0.5555555555555556,
                            "#d8576b"
                          ],
                          [
                            0.6666666666666666,
                            "#ed7953"
                          ],
                          [
                            0.7777777777777778,
                            "#fb9f3a"
                          ],
                          [
                            0.8888888888888888,
                            "#fdca26"
                          ],
                          [
                            1,
                            "#f0f921"
                          ]
                        ],
                        "type": "surface"
                      }
                    ],
                    "table": [
                      {
                        "cells": {
                          "fill": {
                            "color": "#EBF0F8"
                          },
                          "line": {
                            "color": "white"
                          }
                        },
                        "header": {
                          "fill": {
                            "color": "#C8D4E3"
                          },
                          "line": {
                            "color": "white"
                          }
                        },
                        "type": "table"
                      }
                    ]
                  },
                  "layout": {
                    "annotationdefaults": {
                      "arrowcolor": "#2a3f5f",
                      "arrowhead": 0,
                      "arrowwidth": 1
                    },
                    "autotypenumbers": "strict",
                    "coloraxis": {
                      "colorbar": {
                        "outlinewidth": 0,
                        "ticks": ""
                      }
                    },
                    "colorscale": {
                      "diverging": [
                        [
                          0,
                          "#8e0152"
                        ],
                        [
                          0.1,
                          "#c51b7d"
                        ],
                        [
                          0.2,
                          "#de77ae"
                        ],
                        [
                          0.3,
                          "#f1b6da"
                        ],
                        [
                          0.4,
                          "#fde0ef"
                        ],
                        [
                          0.5,
                          "#f7f7f7"
                        ],
                        [
                          0.6,
                          "#e6f5d0"
                        ],
                        [
                          0.7,
                          "#b8e186"
                        ],
                        [
                          0.8,
                          "#7fbc41"
                        ],
                        [
                          0.9,
                          "#4d9221"
                        ],
                        [
                          1,
                          "#276419"
                        ]
                      ],
                      "sequential": [
                        [
                          0,
                          "#0d0887"
                        ],
                        [
                          0.1111111111111111,
                          "#46039f"
                        ],
                        [
                          0.2222222222222222,
                          "#7201a8"
                        ],
                        [
                          0.3333333333333333,
                          "#9c179e"
                        ],
                        [
                          0.4444444444444444,
                          "#bd3786"
                        ],
                        [
                          0.5555555555555556,
                          "#d8576b"
                        ],
                        [
                          0.6666666666666666,
                          "#ed7953"
                        ],
                        [
                          0.7777777777777778,
                          "#fb9f3a"
                        ],
                        [
                          0.8888888888888888,
                          "#fdca26"
                        ],
                        [
                          1,
                          "#f0f921"
                        ]
                      ],
                      "sequentialminus": [
                        [
                          0,
                          "#0d0887"
                        ],
                        [
                          0.1111111111111111,
                          "#46039f"
                        ],
                        [
                          0.2222222222222222,
                          "#7201a8"
                        ],
                        [
                          0.3333333333333333,
                          "#9c179e"
                        ],
                        [
                          0.4444444444444444,
                          "#bd3786"
                        ],
                        [
                          0.5555555555555556,
                          "#d8576b"
                        ],
                        [
                          0.6666666666666666,
                          "#ed7953"
                        ],
                        [
                          0.7777777777777778,
                          "#fb9f3a"
                        ],
                        [
                          0.8888888888888888,
                          "#fdca26"
                        ],
                        [
                          1,
                          "#f0f921"
                        ]
                      ]
                    },
                    "colorway": [
                      "#636efa",
                      "#EF553B",
                      "#00cc96",
                      "#ab63fa",
                      "#FFA15A",
                      "#19d3f3",
                      "#FF6692",
                      "#B6E880",
                      "#FF97FF",
                      "#FECB52"
                    ],
                    "font": {
                      "color": "#2a3f5f"
                    },
                    "geo": {
                      "bgcolor": "white",
                      "lakecolor": "white",
                      "landcolor": "#E5ECF6",
                      "showlakes": true,
                      "showland": true,
                      "subunitcolor": "white"
                    },
                    "hoverlabel": {
                      "align": "left"
                    },
                    "hovermode": "closest",
                    "mapbox": {
                      "style": "light"
                    },
                    "paper_bgcolor": "white",
                    "plot_bgcolor": "#E5ECF6",
                    "polar": {
                      "angularaxis": {
                        "gridcolor": "white",
                        "linecolor": "white",
                        "ticks": ""
                      },
                      "bgcolor": "#E5ECF6",
                      "radialaxis": {
                        "gridcolor": "white",
                        "linecolor": "white",
                        "ticks": ""
                      }
                    },
                    "scene": {
                      "xaxis": {
                        "backgroundcolor": "#E5ECF6",
                        "gridcolor": "white",
                        "gridwidth": 2,
                        "linecolor": "white",
                        "showbackground": true,
                        "ticks": "",
                        "zerolinecolor": "white"
                      },
                      "yaxis": {
                        "backgroundcolor": "#E5ECF6",
                        "gridcolor": "white",
                        "gridwidth": 2,
                        "linecolor": "white",
                        "showbackground": true,
                        "ticks": "",
                        "zerolinecolor": "white"
                      },
                      "zaxis": {
                        "backgroundcolor": "#E5ECF6",
                        "gridcolor": "white",
                        "gridwidth": 2,
                        "linecolor": "white",
                        "showbackground": true,
                        "ticks": "",
                        "zerolinecolor": "white"
                      }
                    },
                    "shapedefaults": {
                      "line": {
                        "color": "#2a3f5f"
                      }
                    },
                    "ternary": {
                      "aaxis": {
                        "gridcolor": "white",
                        "linecolor": "white",
                        "ticks": ""
                      },
                      "baxis": {
                        "gridcolor": "white",
                        "linecolor": "white",
                        "ticks": ""
                      },
                      "bgcolor": "#E5ECF6",
                      "caxis": {
                        "gridcolor": "white",
                        "linecolor": "white",
                        "ticks": ""
                      }
                    },
                    "title": {
                      "x": 0.05
                    },
                    "xaxis": {
                      "automargin": true,
                      "gridcolor": "white",
                      "linecolor": "white",
                      "ticks": "",
                      "title": {
                        "standoff": 15
                      },
                      "zerolinecolor": "white",
                      "zerolinewidth": 2
                    },
                    "yaxis": {
                      "automargin": true,
                      "gridcolor": "white",
                      "linecolor": "white",
                      "ticks": "",
                      "title": {
                        "standoff": 15
                      },
                      "zerolinecolor": "white",
                      "zerolinewidth": 2
                    }
                  }
                },
                "title": {
                  "text": "Overall loss"
                },
                "width": 700,
                "xaxis": {
                  "title": {
                    "text": "Epoch"
                  }
                },
                "yaxis": {
                  "title": {
                    "text": "Loss"
                  }
                }
              }
            }
          },
          "metadata": {},
          "output_type": "display_data"
        }
      ],
      "source": [
        "# Overall Loss\n",
        "fig = go.Figure()\n",
        "fig.add_trace(go.Scattergl(\n",
        "                    y=history.history['loss'],\n",
        "                    name='Train'))\n",
        "\n",
        "fig.add_trace(go.Scattergl(\n",
        "                    y=history.history['val_loss'],\n",
        "                    name='Valid'))\n",
        "\n",
        "\n",
        "fig.update_layout(height=500, \n",
        "                  width=700,\n",
        "                  title='Overall loss',\n",
        "                  xaxis_title='Epoch',\n",
        "                  yaxis_title='Loss')\n",
        "\n",
        "fig.show()"
      ]
    },
    {
      "cell_type": "markdown",
      "metadata": {
        "id": "spX1Piedo0-X"
      },
      "source": [
        "Save the Keras model to the local disk, so that we can resume training if needed."
      ]
    },
    {
      "cell_type": "markdown",
      "metadata": {},
      "source": [
        "## Test"
      ]
    },
    {
      "cell_type": "code",
      "execution_count": 11,
      "metadata": {},
      "outputs": [],
      "source": [
        "test_batch_size = 128\n",
        "test_generator = generator.generate_images(test_idx, is_training=False, batch_size=test_batch_size)\n",
        "age_pred, race_pred, gender_pred = model.predict(test_generator, steps=len(test_idx)//test_batch_size)\n"
      ]
    },
    {
      "cell_type": "code",
      "execution_count": 12,
      "metadata": {},
      "outputs": [],
      "source": [
        "test_generator = generator.generate_images(test_idx, is_training=False, batch_size=test_batch_size)\n",
        "samples = 0\n",
        "images, age_true, race_true, gender_true = [], [], [], []\n",
        "for test_batch in test_generator:\n",
        "    image = test_batch[0]\n",
        "    labels = test_batch[1]\n",
        "    \n",
        "    images.extend(image)\n",
        "    age_true.extend(labels[0])\n",
        "    race_true.extend(labels[1])\n",
        "    gender_true.extend(labels[2])\n",
        "    \n",
        "age_true = np.array(age_true)\n",
        "race_true = np.array(race_true)\n",
        "gender_true = np.array(gender_true)\n",
        "\n",
        "race_true, gender_true = race_true.argmax(axis=-1), gender_true.argmax(axis=-1)\n",
        "race_pred, gender_pred = race_pred.argmax(axis=-1), gender_pred.argmax(axis=-1)\n",
        "\n",
        "age_true = age_true * generator.max_age\n",
        "age_pred = age_pred * generator.max_age\n"
      ]
    },
    {
      "cell_type": "code",
      "execution_count": 13,
      "metadata": {},
      "outputs": [
        {
          "name": "stdout",
          "output_type": "stream",
          "text": [
            "              precision    recall  f1-score   support\n",
            "\n",
            "       white       0.73      0.95      0.83      2949\n",
            "       black       0.89      0.77      0.82      1371\n",
            "       asian       0.89      0.74      0.81      1037\n",
            "      indian       0.75      0.69      0.72      1168\n",
            "      others       0.39      0.08      0.13       515\n",
            "\n",
            "    accuracy                           0.78      7040\n",
            "   macro avg       0.73      0.64      0.66      7040\n",
            "weighted avg       0.76      0.78      0.75      7040\n",
            "\n"
          ]
        }
      ],
      "source": [
        "cr_race = classification_report(race_true, race_pred, target_names=dataset_dict['race_alias'].keys())\n",
        "print(cr_race)"
      ]
    },
    {
      "cell_type": "code",
      "execution_count": 14,
      "metadata": {},
      "outputs": [
        {
          "name": "stdout",
          "output_type": "stream",
          "text": [
            "              precision    recall  f1-score   support\n",
            "\n",
            "        male       0.95      0.82      0.88      3681\n",
            "      female       0.83      0.96      0.89      3359\n",
            "\n",
            "    accuracy                           0.89      7040\n",
            "   macro avg       0.89      0.89      0.89      7040\n",
            "weighted avg       0.89      0.89      0.89      7040\n",
            "\n"
          ]
        }
      ],
      "source": [
        "cr_gender = classification_report(gender_true, gender_pred, target_names=dataset_dict['gender_alias'].keys())\n",
        "print(cr_gender)"
      ]
    },
    {
      "cell_type": "code",
      "execution_count": 15,
      "metadata": {},
      "outputs": [
        {
          "name": "stdout",
          "output_type": "stream",
          "text": [
            "R2 score for age:  0.6908394168881167\n"
          ]
        }
      ],
      "source": [
        "print('R2 score for age: ', r2_score(age_true, age_pred))"
      ]
    },
    {
      "cell_type": "code",
      "execution_count": null,
      "metadata": {},
      "outputs": [],
      "source": [
        "fig = plt.figure(figsize=(128, 128 ))\n",
        "rows = 15\n",
        "columns = 1\n",
        "\n",
        "i = 0\n",
        "for image , age_p, race_p, gender_p, age, race, gender in zip(images, age_pred, race_pred, gender_pred, age_true, race_true, gender_true):\n",
        "    i += 1\n",
        "    image = np.array(image)\n",
        "    fig.add_subplot(rows, columns, i+1)\n",
        "    plt.imshow(image)\n",
        "    plt.axis('off')\n",
        "    # plt.title( 'Predicted gender : {} , actual gender : {}'.format( label_ , classes[ np.argmax( label ) ] ) )\n",
        "    plt.title(f'Predicted Age: {age_p} Actual Age: {age} \\n Predicted Gender: {dataset_dict[\"gender_id\"][gender_p]} Actual Gender: {dataset_dict[\"gender_id\"][gender]} \\n Predicted Race: {dataset_dict[\"race_id\"][race_p]} Actual Race: {dataset_dict[\"race_id\"][race]}')\n"
      ]
    },
    {
      "cell_type": "markdown",
      "metadata": {
        "id": "SSOFJqsf-uK9"
      },
      "source": [
        " \n",
        "## 7) **Convert to TensorFlow Lite format**\n",
        "\n",
        "Our model is to be deployed in an Android app, where we'll use [TF Lite Android](https://bintray.com/google/tensorflow/tensorflow-lite) package to parse the model and make predictions.\n",
        "\n",
        "We use the `TFLiteConverter` API to convert our Keras Model ( `.h5` ) to a TF Lite buffer ( `.tflite` ). See the [official docs](https://www.tensorflow.org/api_docs/python/tf/lite/TFLiteConverter/). We'll produce two TF Lite buffers, one with float16 quantization and other non-quantized model.\n"
      ]
    },
    {
      "cell_type": "code",
      "execution_count": null,
      "metadata": {
        "id": "ZwmMTQxyhToJ"
      },
      "outputs": [],
      "source": [
        "\n",
        "converter = tf.lite.TFLiteConverter.from_keras_model( model )\n",
        "converter.optimizations = [ tf.lite.Optimize.DEFAULT ]\n",
        "converter.target_spec.supported_types = [ tf.float16 ]\n",
        "buffer = converter.convert()\n",
        "\n",
        "open( '{}_q.tflite'.format( model_name ) , 'wb' ).write( buffer )\n",
        "files.download( '{}_q.tflite'.format( model_name ) )\n"
      ]
    },
    {
      "cell_type": "markdown",
      "metadata": {
        "id": "C5VTeSnGAhm_"
      },
      "source": [
        "\n",
        "For conversion to a non-quantized TF Lite buffer.\n"
      ]
    },
    {
      "cell_type": "code",
      "execution_count": null,
      "metadata": {
        "id": "9jnurapqK6fw"
      },
      "outputs": [],
      "source": [
        "\n",
        "converter = tf.lite.TFLiteConverter.from_keras_model( model )\n",
        "buffer = converter.convert()\n",
        "\n",
        "open( '{}_nonq.tflite'.format( model_name ) , 'wb' ).write( buffer )\n",
        "files.download( '{}_nonq.tflite'.format( model_name ) )\n"
      ]
    },
    {
      "cell_type": "markdown",
      "metadata": {
        "id": "_uQcN2eMkrR5"
      },
      "source": [
        "\n",
        "## Utility Methods\n",
        "\n",
        "Use these methods to automate some of the tasks.\n"
      ]
    },
    {
      "cell_type": "code",
      "execution_count": null,
      "metadata": {
        "cellView": "form",
        "id": "TGGdHh5oEtK1"
      },
      "outputs": [],
      "source": [
        "\n",
        "#@title Utility to zip and download a directory\n",
        "#@markdown Use this method to zip and download a directory. For ex. a TB logs \n",
        "#@markdown directory or a checkpoint(s) directory.\n",
        "\n",
        "dir_to_zip = 'tb_logs' #@param {type: \"string\"}\n",
        "output_filename = 'logs.zip' #@param {type: \"string\"}\n",
        "delete_dir_after_download = \"No\"  #@param ['Yes', 'No']\n",
        "\n",
        "os.system( \"zip -r {} {}\".format( output_filename , dir_to_zip ) )\n",
        "\n",
        "if delete_dir_after_download == \"Yes\":\n",
        "    os.system( \"rm -r {}\".format( dir_to_zip ) )\n",
        "\n",
        "files.download( output_filename )\n"
      ]
    },
    {
      "cell_type": "code",
      "execution_count": null,
      "metadata": {
        "cellView": "form",
        "id": "jGbWLjNXJMSt"
      },
      "outputs": [],
      "source": [
        "\n",
        "#@title Utility to delete a directory\n",
        "#@markdown Use this method to delete a directory. \n",
        "\n",
        "dir_path = ''  #@param {type: \"string\"}\n",
        "os.system( f'rm -r {dir_path}')\n"
      ]
    },
    {
      "cell_type": "code",
      "execution_count": null,
      "metadata": {
        "id": "ycIUYrp65w7r"
      },
      "outputs": [],
      "source": [
        "%load_ext tensorboard\n",
        "%tensorboard --logdir tb_logs/"
      ]
    }
  ],
  "metadata": {
    "accelerator": "GPU",
    "colab": {
      "collapsed_sections": [
        "_uQcN2eMkrR5"
      ],
      "name": "inference_notebook.ipynb",
      "provenance": []
    },
    "interpreter": {
      "hash": "e068d1db7b46c849f789b3c4a85e9cf2c6ba07f44bbce4a761ed871e9e6f51a1"
    },
    "kernelspec": {
      "display_name": "Python 3.8.11 64-bit ('MDP': conda)",
      "name": "python3"
    },
    "language_info": {
      "codemirror_mode": {
        "name": "ipython",
        "version": 3
      },
      "file_extension": ".py",
      "mimetype": "text/x-python",
      "name": "python",
      "nbconvert_exporter": "python",
      "pygments_lexer": "ipython3",
      "version": "3.8.11"
    }
  },
  "nbformat": 4,
  "nbformat_minor": 0
}
